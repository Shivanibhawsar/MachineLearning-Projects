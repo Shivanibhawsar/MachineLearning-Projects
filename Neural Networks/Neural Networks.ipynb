{
 "cells": [
  {
   "cell_type": "markdown",
   "metadata": {},
   "source": [
    "#### Dataset import and Cleaning"
   ]
  },
  {
   "cell_type": "code",
   "execution_count": 70,
   "metadata": {},
   "outputs": [
    {
     "name": "stdout",
     "output_type": "stream",
     "text": [
      "   pclass  sex      age  sibsp  survived\n",
      "0  1       1    29.0000  0      1       \n",
      "1  1       0    0.9167   1      1       \n",
      "2  1       1    2.0000   1      0       \n",
      "3  1       0    30.0000  1      0       \n",
      "4  1       1    25.0000  1      0       \n"
     ]
    }
   ],
   "source": [
    "import matplotlib.pyplot as plt\n",
    "import pandas as pd\n",
    "import numpy as np\n",
    "from sklearn.model_selection import train_test_split\n",
    "from sklearn.metrics import mean_squared_error\n",
    "from sklearn.metrics import accuracy_score, confusion_matrix\n",
    "plt.style.use('seaborn-whitegrid')\n",
    "from sklearn.neural_network import MLPClassifier\n",
    "\n",
    "df = pd.read_csv(\"Titanic.csv\")\n",
    "df = df[['pclass', 'sex', 'age','sibsp','survived']] \n",
    "df['pclass'] = df['pclass'].map({'1st':1,'2nd':2,'3rd':3})\n",
    "df['sex'] = df['sex'].map({'male':0,'female':1})\n",
    "df['age'].fillna((df['age'].mean()),inplace=True) # Inplace will replace NA with Mean\n",
    "df = df.dropna()\n",
    "print (df.head())"
   ]
  },
  {
   "cell_type": "markdown",
   "metadata": {},
   "source": [
    "#### Train Test Split"
   ]
  },
  {
   "cell_type": "code",
   "execution_count": 81,
   "metadata": {},
   "outputs": [],
   "source": [
    "X = df.drop('survived',axis=1)\n",
    "y = df['survived']\n",
    "X_train, X_test, y_train, y_test = train_test_split(X, y, test_size=0.2,random_state=42)"
   ]
  },
  {
   "cell_type": "markdown",
   "metadata": {},
   "source": [
    "#### Neural Network with 2 hidden layers"
   ]
  },
  {
   "cell_type": "code",
   "execution_count": 79,
   "metadata": {},
   "outputs": [
    {
     "data": {
      "text/plain": [
       "0.7557251908396947"
      ]
     },
     "execution_count": 79,
     "metadata": {},
     "output_type": "execute_result"
    }
   ],
   "source": [
    "classifier = MLPClassifier(solver='adam',hidden_layer_sizes=(2,),activation='logistic',\n",
    "                           learning_rate_init=0.1, momentum=0.9,alpha=0.00000001)\n",
    "classifier = classifier.fit(X_train, y_train)\n",
    "y_predict_test = classifier.predict(X_test)\n",
    "accuracy_score(y_test, y_predict_test)"
   ]
  },
  {
   "cell_type": "code",
   "execution_count": 80,
   "metadata": {},
   "outputs": [
    {
     "name": "stdout",
     "output_type": "stream",
     "text": [
      "Percent survivors correctly predicted (testing set) : 57.63%\n",
      "\n",
      "Percent fatalities correctly predicted (testing set) : 90.28%\n",
      "\n"
     ]
    }
   ],
   "source": [
    "confusion_matrix_test = confusion_matrix(y_test, y_predict_test)\n",
    "TN = confusion_matrix_test[0][0]\n",
    "FN = confusion_matrix_test[1][0]\n",
    "TP = confusion_matrix_test[1][1]\n",
    "FP = confusion_matrix_test[0][1]\n",
    "sensitivity_test = TP/(TP+FN)\n",
    "specificity_test = TN/(FP+TN)\n",
    "\n",
    "print(\"Percent survivors correctly predicted (testing set) : {0:.2f}%\\n\".format(sensitivity_test*100))\n",
    "print(\"Percent fatalities correctly predicted (testing set) : {0:.2f}%\\n\".format(specificity_test*100))"
   ]
  },
  {
   "cell_type": "markdown",
   "metadata": {},
   "source": [
    "#### Neural Network with 10 hidden layers"
   ]
  },
  {
   "cell_type": "code",
   "execution_count": 83,
   "metadata": {},
   "outputs": [
    {
     "data": {
      "text/plain": [
       "0.7748091603053435"
      ]
     },
     "execution_count": 83,
     "metadata": {},
     "output_type": "execute_result"
    }
   ],
   "source": [
    "classifier = MLPClassifier(solver='adam',hidden_layer_sizes=(10,),activation='logistic',\n",
    "                           learning_rate_init=0.1, momentum=0.4,alpha=0.00000001)\n",
    "classifier = classifier.fit(X_train, y_train)\n",
    "y_predict_test = classifier.predict(X_test)\n",
    "accuracy_score(y_test, y_predict_test)"
   ]
  },
  {
   "cell_type": "code",
   "execution_count": 84,
   "metadata": {},
   "outputs": [
    {
     "name": "stdout",
     "output_type": "stream",
     "text": [
      "Percent survivors correctly predicted (testing set) : 65.25%\n",
      "\n",
      "Percent fatalities correctly predicted (testing set) : 87.50%\n",
      "\n"
     ]
    }
   ],
   "source": [
    "confusion_matrix_test = confusion_matrix(y_test, y_predict_test)\n",
    "TN = confusion_matrix_test[0][0]\n",
    "FN = confusion_matrix_test[1][0]\n",
    "TP = confusion_matrix_test[1][1]\n",
    "FP = confusion_matrix_test[0][1]\n",
    "sensitivity_test = TP/(TP+FN)\n",
    "specificity_test = TN/(FP+TN)\n",
    "\n",
    "print(\"Percent survivors correctly predicted (testing set) : {0:.2f}%\\n\".format(sensitivity_test*100))\n",
    "print(\"Percent fatalities correctly predicted (testing set) : {0:.2f}%\\n\".format(specificity_test*100))"
   ]
  },
  {
   "cell_type": "markdown",
   "metadata": {},
   "source": [
    "#### Comparison"
   ]
  },
  {
   "cell_type": "code",
   "execution_count": 86,
   "metadata": {},
   "outputs": [
    {
     "data": {
      "text/html": [
       "<div>\n",
       "<style scoped>\n",
       "    .dataframe tbody tr th:only-of-type {\n",
       "        vertical-align: middle;\n",
       "    }\n",
       "\n",
       "    .dataframe tbody tr th {\n",
       "        vertical-align: top;\n",
       "    }\n",
       "\n",
       "    .dataframe thead th {\n",
       "        text-align: right;\n",
       "    }\n",
       "</style>\n",
       "<table border=\"1\" class=\"dataframe\">\n",
       "  <thead>\n",
       "    <tr style=\"text-align: right;\">\n",
       "      <th></th>\n",
       "      <th>Criteria</th>\n",
       "      <th>Random Forest</th>\n",
       "      <th>2 Hidden Layers NN</th>\n",
       "      <th>10 Hidden Layers NN</th>\n",
       "    </tr>\n",
       "  </thead>\n",
       "  <tbody>\n",
       "    <tr>\n",
       "      <th>0</th>\n",
       "      <td>Percent survivors correctly predicted (testing set)</td>\n",
       "      <td>61.86%</td>\n",
       "      <td>57.63%</td>\n",
       "      <td>65.25%</td>\n",
       "    </tr>\n",
       "    <tr>\n",
       "      <th>1</th>\n",
       "      <td>Percent fatalities correctly predicted (testing set)</td>\n",
       "      <td>88.89%</td>\n",
       "      <td>90.28%</td>\n",
       "      <td>87.50%</td>\n",
       "    </tr>\n",
       "  </tbody>\n",
       "</table>\n",
       "</div>"
      ],
      "text/plain": [
       "                                               Criteria Random Forest  \\\n",
       "0  Percent survivors correctly predicted (testing set)   61.86%         \n",
       "1  Percent fatalities correctly predicted (testing set)  88.89%         \n",
       "\n",
       "  2 Hidden Layers NN 10 Hidden Layers NN  \n",
       "0  57.63%             65.25%              \n",
       "1  90.28%             87.50%              "
      ]
     },
     "execution_count": 86,
     "metadata": {},
     "output_type": "execute_result"
    }
   ],
   "source": [
    "df = pd.DataFrame(columns=['Criteria', 'Random Forest', '2 Hidden Layers NN','10 Hidden Layers NN'])\n",
    "df = df.append({'Criteria': 'Percent survivors correctly predicted (testing set)', 'Random Forest': '61.86%', '2 Hidden Layers NN': '57.63%','10 Hidden Layers NN':'65.25%'}, ignore_index=True)\n",
    "df = df.append({'Criteria': 'Percent fatalities correctly predicted (testing set)', 'Random Forest': '88.89%', '2 Hidden Layers NN': '90.28%','10 Hidden Layers NN':'87.50%'}, ignore_index=True)\n",
    "df"
   ]
  }
 ],
 "metadata": {
  "kernelspec": {
   "display_name": "Python 3",
   "language": "python",
   "name": "python3"
  },
  "language_info": {
   "codemirror_mode": {
    "name": "ipython",
    "version": 3
   },
   "file_extension": ".py",
   "mimetype": "text/x-python",
   "name": "python",
   "nbconvert_exporter": "python",
   "pygments_lexer": "ipython3",
   "version": "3.8.3"
  }
 },
 "nbformat": 4,
 "nbformat_minor": 4
}
