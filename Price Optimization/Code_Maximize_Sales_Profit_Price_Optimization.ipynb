{
  "cells": [
    {
      "cell_type": "code",
      "source": [],
      "metadata": {
        "id": "tDZJUDRAiNt1"
      },
      "execution_count": null,
      "outputs": []
    },
    {
      "cell_type": "markdown",
      "source": [
        "\n",
        "#CPE 608: Applied Modeling and Optimization\n",
        "\n",
        "#Title: Price Optimization To Maximize Sales Profit\n",
        "\n",
        "\n",
        "Team Members\n",
        "\n",
        "1. Aayush Gavande CWID: 20010868\n",
        "2. Shivani Bhawsar CWID: 20013020\n",
        "3. Chinmay Bhagwat CWID: 20015512"
      ],
      "metadata": {
        "id": "D77JgmtE3VWT"
      }
    },
    {
      "cell_type": "markdown",
      "source": [
        "#Importing Library"
      ],
      "metadata": {
        "id": "XGgI5EKao5vA"
      }
    },
    {
      "cell_type": "code",
      "execution_count": null,
      "metadata": {
        "id": "4MnISKSOoJap",
        "colab": {
          "base_uri": "https://localhost:8080/"
        },
        "outputId": "df575b1d-7534-4110-91b0-d9062ba82adc"
      },
      "outputs": [
        {
          "output_type": "stream",
          "name": "stdout",
          "text": [
            "Looking in indexes: https://pypi.org/simple, https://us-python.pkg.dev/colab-wheels/public/simple/\n",
            "Requirement already satisfied: plotly in /usr/local/lib/python3.8/dist-packages (5.5.0)\n",
            "Requirement already satisfied: chart-studio in /usr/local/lib/python3.8/dist-packages (1.1.0)\n",
            "Requirement already satisfied: tenacity>=6.2.0 in /usr/local/lib/python3.8/dist-packages (from plotly) (8.1.0)\n",
            "Requirement already satisfied: six in /usr/local/lib/python3.8/dist-packages (from plotly) (1.15.0)\n",
            "Requirement already satisfied: retrying>=1.3.3 in /usr/local/lib/python3.8/dist-packages (from chart-studio) (1.3.4)\n",
            "Requirement already satisfied: requests in /usr/local/lib/python3.8/dist-packages (from chart-studio) (2.23.0)\n",
            "Requirement already satisfied: chardet<4,>=3.0.2 in /usr/local/lib/python3.8/dist-packages (from requests->chart-studio) (3.0.4)\n",
            "Requirement already satisfied: certifi>=2017.4.17 in /usr/local/lib/python3.8/dist-packages (from requests->chart-studio) (2022.9.24)\n",
            "Requirement already satisfied: urllib3!=1.25.0,!=1.25.1,<1.26,>=1.21.1 in /usr/local/lib/python3.8/dist-packages (from requests->chart-studio) (1.24.3)\n",
            "Requirement already satisfied: idna<3,>=2.5 in /usr/local/lib/python3.8/dist-packages (from requests->chart-studio) (2.10)\n"
          ]
        }
      ],
      "source": [
        "!pip install plotly chart-studio\n",
        "import pandas as pd\n",
        "import matplotlib.pyplot as plt\n",
        "import seaborn as sns\n",
        "import numpy as np\n",
        "import statsmodels.api as sm\n",
        "from numpy.linalg import norm\n",
        "import time\n",
        "from sympy import *\n",
        "import sympy\n",
        "from sklearn.metrics import mean_squared_error\n",
        "from statsmodels.formula.api import ols\n",
        "import scipy.optimize as optimize\n",
        "import plotly "
      ]
    },
    {
      "cell_type": "markdown",
      "source": [
        "#Dataset\n",
        "\n",
        "Price optimization is using historical data to identify the most appropriate price of a product or a service that maximizes the company’s profitability. There are numerous factors like demography, operating costs, survey data, etc that play a role in efficient pricing, it also depends on the nature of businesses and the product that is served. The business regularly adds/upgrades features to bring more value to the product and this obviously has a cost associated with it in terms of effort, time, and most importantly companies reputation.\n",
        "\n",
        "As a result, it is important to understand the correct pricing, a little too high, you lose your customers and slight underpricing will result in loss of revenue. Price optimization helps businesses strike the right balance of efficient pricing, achieving profit objectives, and also serve their customers.\n",
        "\n",
        "For the following project we are using retail sales dataset from https://www.kaggle.com/datasets/suddharshan/retail-price-optimization"
      ],
      "metadata": {
        "id": "SbmgOnPlo96W"
      }
    },
    {
      "cell_type": "code",
      "execution_count": null,
      "metadata": {
        "colab": {
          "base_uri": "https://localhost:8080/"
        },
        "id": "ud8fQgVyoJav",
        "outputId": "04b0a1be-8be2-47f8-d8ac-98031c8dea01"
      },
      "outputs": [
        {
          "output_type": "stream",
          "name": "stderr",
          "text": [
            "/usr/local/lib/python3.8/dist-packages/IPython/core/interactiveshell.py:3326: DtypeWarning: Columns (1) have mixed types.Specify dtype option on import or set low_memory=False.\n",
            "  exec(code_obj, self.user_global_ns, self.user_ns)\n"
          ]
        },
        {
          "output_type": "execute_result",
          "data": {
            "text/plain": [
              "  OrderID Product ID                  Description  Quantity        Order Date  \\\n",
              "0  541518      10002  INFLATABLE POLITICAL GLOBE         12    1/19/2011 9:05   \n",
              "1  541491      10002  INFLATABLE POLITICAL GLOBE         24   1/18/2011 14:04   \n",
              "2  536370      10002  INFLATABLE POLITICAL GLOBE         48    12/1/2010 8:45   \n",
              "3  541631      10002  INFLATABLE POLITICAL GLOBE         12   1/20/2011 10:48   \n",
              "4  541277      10002  INFLATABLE POLITICAL GLOBE          1   1/17/2011 11:46   \n",
              "5  542735      10002  INFLATABLE POLITICAL GLOBE         12   1/31/2011 15:36   \n",
              "6  538093      10002  INFLATABLE POLITICAL GLOBE         12   12/9/2010 14:49   \n",
              "7  540239      10002  INFLATABLE POLITICAL GLOBE         12    1/5/2011 14:48   \n",
              "8  538196      10002  INFLATABLE POLITICAL GLOBE         36  12/10/2010 10:56   \n",
              "9  542629      10002  INFLATABLE POLITICAL GLOBE        120    1/31/2011 9:57   \n",
              "\n",
              "   UnitPrice  CustomerID      Country  \n",
              "0       0.85     12451.0  Switzerland  \n",
              "1       0.85     12510.0        Spain  \n",
              "2       0.85     12583.0       France  \n",
              "3       0.85     12637.0       France  \n",
              "4       0.85     12673.0      Germany  \n",
              "5       0.85     12681.0       France  \n",
              "6       0.85     12682.0       France  \n",
              "7       0.85     12682.0       France  \n",
              "8       0.85     12731.0       France  \n",
              "9       0.85     12731.0       France  "
            ],
            "text/html": [
              "\n",
              "  <div id=\"df-c9b887db-5a0c-4870-a38a-cc309121e457\">\n",
              "    <div class=\"colab-df-container\">\n",
              "      <div>\n",
              "<style scoped>\n",
              "    .dataframe tbody tr th:only-of-type {\n",
              "        vertical-align: middle;\n",
              "    }\n",
              "\n",
              "    .dataframe tbody tr th {\n",
              "        vertical-align: top;\n",
              "    }\n",
              "\n",
              "    .dataframe thead th {\n",
              "        text-align: right;\n",
              "    }\n",
              "</style>\n",
              "<table border=\"1\" class=\"dataframe\">\n",
              "  <thead>\n",
              "    <tr style=\"text-align: right;\">\n",
              "      <th></th>\n",
              "      <th>OrderID</th>\n",
              "      <th>Product ID</th>\n",
              "      <th>Description</th>\n",
              "      <th>Quantity</th>\n",
              "      <th>Order Date</th>\n",
              "      <th>UnitPrice</th>\n",
              "      <th>CustomerID</th>\n",
              "      <th>Country</th>\n",
              "    </tr>\n",
              "  </thead>\n",
              "  <tbody>\n",
              "    <tr>\n",
              "      <th>0</th>\n",
              "      <td>541518</td>\n",
              "      <td>10002</td>\n",
              "      <td>INFLATABLE POLITICAL GLOBE</td>\n",
              "      <td>12</td>\n",
              "      <td>1/19/2011 9:05</td>\n",
              "      <td>0.85</td>\n",
              "      <td>12451.0</td>\n",
              "      <td>Switzerland</td>\n",
              "    </tr>\n",
              "    <tr>\n",
              "      <th>1</th>\n",
              "      <td>541491</td>\n",
              "      <td>10002</td>\n",
              "      <td>INFLATABLE POLITICAL GLOBE</td>\n",
              "      <td>24</td>\n",
              "      <td>1/18/2011 14:04</td>\n",
              "      <td>0.85</td>\n",
              "      <td>12510.0</td>\n",
              "      <td>Spain</td>\n",
              "    </tr>\n",
              "    <tr>\n",
              "      <th>2</th>\n",
              "      <td>536370</td>\n",
              "      <td>10002</td>\n",
              "      <td>INFLATABLE POLITICAL GLOBE</td>\n",
              "      <td>48</td>\n",
              "      <td>12/1/2010 8:45</td>\n",
              "      <td>0.85</td>\n",
              "      <td>12583.0</td>\n",
              "      <td>France</td>\n",
              "    </tr>\n",
              "    <tr>\n",
              "      <th>3</th>\n",
              "      <td>541631</td>\n",
              "      <td>10002</td>\n",
              "      <td>INFLATABLE POLITICAL GLOBE</td>\n",
              "      <td>12</td>\n",
              "      <td>1/20/2011 10:48</td>\n",
              "      <td>0.85</td>\n",
              "      <td>12637.0</td>\n",
              "      <td>France</td>\n",
              "    </tr>\n",
              "    <tr>\n",
              "      <th>4</th>\n",
              "      <td>541277</td>\n",
              "      <td>10002</td>\n",
              "      <td>INFLATABLE POLITICAL GLOBE</td>\n",
              "      <td>1</td>\n",
              "      <td>1/17/2011 11:46</td>\n",
              "      <td>0.85</td>\n",
              "      <td>12673.0</td>\n",
              "      <td>Germany</td>\n",
              "    </tr>\n",
              "    <tr>\n",
              "      <th>5</th>\n",
              "      <td>542735</td>\n",
              "      <td>10002</td>\n",
              "      <td>INFLATABLE POLITICAL GLOBE</td>\n",
              "      <td>12</td>\n",
              "      <td>1/31/2011 15:36</td>\n",
              "      <td>0.85</td>\n",
              "      <td>12681.0</td>\n",
              "      <td>France</td>\n",
              "    </tr>\n",
              "    <tr>\n",
              "      <th>6</th>\n",
              "      <td>538093</td>\n",
              "      <td>10002</td>\n",
              "      <td>INFLATABLE POLITICAL GLOBE</td>\n",
              "      <td>12</td>\n",
              "      <td>12/9/2010 14:49</td>\n",
              "      <td>0.85</td>\n",
              "      <td>12682.0</td>\n",
              "      <td>France</td>\n",
              "    </tr>\n",
              "    <tr>\n",
              "      <th>7</th>\n",
              "      <td>540239</td>\n",
              "      <td>10002</td>\n",
              "      <td>INFLATABLE POLITICAL GLOBE</td>\n",
              "      <td>12</td>\n",
              "      <td>1/5/2011 14:48</td>\n",
              "      <td>0.85</td>\n",
              "      <td>12682.0</td>\n",
              "      <td>France</td>\n",
              "    </tr>\n",
              "    <tr>\n",
              "      <th>8</th>\n",
              "      <td>538196</td>\n",
              "      <td>10002</td>\n",
              "      <td>INFLATABLE POLITICAL GLOBE</td>\n",
              "      <td>36</td>\n",
              "      <td>12/10/2010 10:56</td>\n",
              "      <td>0.85</td>\n",
              "      <td>12731.0</td>\n",
              "      <td>France</td>\n",
              "    </tr>\n",
              "    <tr>\n",
              "      <th>9</th>\n",
              "      <td>542629</td>\n",
              "      <td>10002</td>\n",
              "      <td>INFLATABLE POLITICAL GLOBE</td>\n",
              "      <td>120</td>\n",
              "      <td>1/31/2011 9:57</td>\n",
              "      <td>0.85</td>\n",
              "      <td>12731.0</td>\n",
              "      <td>France</td>\n",
              "    </tr>\n",
              "  </tbody>\n",
              "</table>\n",
              "</div>\n",
              "      <button class=\"colab-df-convert\" onclick=\"convertToInteractive('df-c9b887db-5a0c-4870-a38a-cc309121e457')\"\n",
              "              title=\"Convert this dataframe to an interactive table.\"\n",
              "              style=\"display:none;\">\n",
              "        \n",
              "  <svg xmlns=\"http://www.w3.org/2000/svg\" height=\"24px\"viewBox=\"0 0 24 24\"\n",
              "       width=\"24px\">\n",
              "    <path d=\"M0 0h24v24H0V0z\" fill=\"none\"/>\n",
              "    <path d=\"M18.56 5.44l.94 2.06.94-2.06 2.06-.94-2.06-.94-.94-2.06-.94 2.06-2.06.94zm-11 1L8.5 8.5l.94-2.06 2.06-.94-2.06-.94L8.5 2.5l-.94 2.06-2.06.94zm10 10l.94 2.06.94-2.06 2.06-.94-2.06-.94-.94-2.06-.94 2.06-2.06.94z\"/><path d=\"M17.41 7.96l-1.37-1.37c-.4-.4-.92-.59-1.43-.59-.52 0-1.04.2-1.43.59L10.3 9.45l-7.72 7.72c-.78.78-.78 2.05 0 2.83L4 21.41c.39.39.9.59 1.41.59.51 0 1.02-.2 1.41-.59l7.78-7.78 2.81-2.81c.8-.78.8-2.07 0-2.86zM5.41 20L4 18.59l7.72-7.72 1.47 1.35L5.41 20z\"/>\n",
              "  </svg>\n",
              "      </button>\n",
              "      \n",
              "  <style>\n",
              "    .colab-df-container {\n",
              "      display:flex;\n",
              "      flex-wrap:wrap;\n",
              "      gap: 12px;\n",
              "    }\n",
              "\n",
              "    .colab-df-convert {\n",
              "      background-color: #E8F0FE;\n",
              "      border: none;\n",
              "      border-radius: 50%;\n",
              "      cursor: pointer;\n",
              "      display: none;\n",
              "      fill: #1967D2;\n",
              "      height: 32px;\n",
              "      padding: 0 0 0 0;\n",
              "      width: 32px;\n",
              "    }\n",
              "\n",
              "    .colab-df-convert:hover {\n",
              "      background-color: #E2EBFA;\n",
              "      box-shadow: 0px 1px 2px rgba(60, 64, 67, 0.3), 0px 1px 3px 1px rgba(60, 64, 67, 0.15);\n",
              "      fill: #174EA6;\n",
              "    }\n",
              "\n",
              "    [theme=dark] .colab-df-convert {\n",
              "      background-color: #3B4455;\n",
              "      fill: #D2E3FC;\n",
              "    }\n",
              "\n",
              "    [theme=dark] .colab-df-convert:hover {\n",
              "      background-color: #434B5C;\n",
              "      box-shadow: 0px 1px 3px 1px rgba(0, 0, 0, 0.15);\n",
              "      filter: drop-shadow(0px 1px 2px rgba(0, 0, 0, 0.3));\n",
              "      fill: #FFFFFF;\n",
              "    }\n",
              "  </style>\n",
              "\n",
              "      <script>\n",
              "        const buttonEl =\n",
              "          document.querySelector('#df-c9b887db-5a0c-4870-a38a-cc309121e457 button.colab-df-convert');\n",
              "        buttonEl.style.display =\n",
              "          google.colab.kernel.accessAllowed ? 'block' : 'none';\n",
              "\n",
              "        async function convertToInteractive(key) {\n",
              "          const element = document.querySelector('#df-c9b887db-5a0c-4870-a38a-cc309121e457');\n",
              "          const dataTable =\n",
              "            await google.colab.kernel.invokeFunction('convertToInteractive',\n",
              "                                                     [key], {});\n",
              "          if (!dataTable) return;\n",
              "\n",
              "          const docLinkHtml = 'Like what you see? Visit the ' +\n",
              "            '<a target=\"_blank\" href=https://colab.research.google.com/notebooks/data_table.ipynb>data table notebook</a>'\n",
              "            + ' to learn more about interactive tables.';\n",
              "          element.innerHTML = '';\n",
              "          dataTable['output_type'] = 'display_data';\n",
              "          await google.colab.output.renderOutput(dataTable, element);\n",
              "          const docLink = document.createElement('div');\n",
              "          docLink.innerHTML = docLinkHtml;\n",
              "          element.appendChild(docLink);\n",
              "        }\n",
              "      </script>\n",
              "    </div>\n",
              "  </div>\n",
              "  "
            ]
          },
          "metadata": {},
          "execution_count": 2
        }
      ],
      "source": [
        "df = pd.read_csv(\"data.csv\" ,  encoding= 'unicode_escape')\n",
        "df.head(10)"
      ]
    },
    {
      "cell_type": "code",
      "source": [
        "df.info()"
      ],
      "metadata": {
        "colab": {
          "base_uri": "https://localhost:8080/"
        },
        "id": "EAB2NotWZakS",
        "outputId": "bbe48a99-b29e-4c2c-be34-b551f6435c4d"
      },
      "execution_count": null,
      "outputs": [
        {
          "output_type": "stream",
          "name": "stdout",
          "text": [
            "<class 'pandas.core.frame.DataFrame'>\n",
            "RangeIndex: 541909 entries, 0 to 541908\n",
            "Data columns (total 8 columns):\n",
            " #   Column       Non-Null Count   Dtype  \n",
            "---  ------       --------------   -----  \n",
            " 0   OrderID      541909 non-null  object \n",
            " 1   Product ID   541909 non-null  object \n",
            " 2   Description  540455 non-null  object \n",
            " 3   Quantity     541909 non-null  int64  \n",
            " 4   Order Date   541909 non-null  object \n",
            " 5   UnitPrice    541909 non-null  float64\n",
            " 6   CustomerID   406829 non-null  float64\n",
            " 7   Country      541909 non-null  object \n",
            "dtypes: float64(2), int64(1), object(5)\n",
            "memory usage: 33.1+ MB\n"
          ]
        }
      ]
    },
    {
      "cell_type": "code",
      "source": [
        "df.describe()"
      ],
      "metadata": {
        "colab": {
          "base_uri": "https://localhost:8080/"
        },
        "id": "QCofcYC-ZjJV",
        "outputId": "c864055f-4c32-4c1a-e281-80d0914ffdf1"
      },
      "execution_count": null,
      "outputs": [
        {
          "output_type": "execute_result",
          "data": {
            "text/plain": [
              "            Quantity      UnitPrice     CustomerID\n",
              "count  541909.000000  541909.000000  406829.000000\n",
              "mean        9.552250       4.611114   15287.690570\n",
              "std       218.081158      96.759853    1713.600303\n",
              "min    -80995.000000  -11062.060000   12346.000000\n",
              "25%         1.000000       1.250000   13953.000000\n",
              "50%         3.000000       2.080000   15152.000000\n",
              "75%        10.000000       4.130000   16791.000000\n",
              "max     80995.000000   38970.000000   18287.000000"
            ],
            "text/html": [
              "\n",
              "  <div id=\"df-0a8b01a8-7943-4c6e-b833-10a95c69f477\">\n",
              "    <div class=\"colab-df-container\">\n",
              "      <div>\n",
              "<style scoped>\n",
              "    .dataframe tbody tr th:only-of-type {\n",
              "        vertical-align: middle;\n",
              "    }\n",
              "\n",
              "    .dataframe tbody tr th {\n",
              "        vertical-align: top;\n",
              "    }\n",
              "\n",
              "    .dataframe thead th {\n",
              "        text-align: right;\n",
              "    }\n",
              "</style>\n",
              "<table border=\"1\" class=\"dataframe\">\n",
              "  <thead>\n",
              "    <tr style=\"text-align: right;\">\n",
              "      <th></th>\n",
              "      <th>Quantity</th>\n",
              "      <th>UnitPrice</th>\n",
              "      <th>CustomerID</th>\n",
              "    </tr>\n",
              "  </thead>\n",
              "  <tbody>\n",
              "    <tr>\n",
              "      <th>count</th>\n",
              "      <td>541909.000000</td>\n",
              "      <td>541909.000000</td>\n",
              "      <td>406829.000000</td>\n",
              "    </tr>\n",
              "    <tr>\n",
              "      <th>mean</th>\n",
              "      <td>9.552250</td>\n",
              "      <td>4.611114</td>\n",
              "      <td>15287.690570</td>\n",
              "    </tr>\n",
              "    <tr>\n",
              "      <th>std</th>\n",
              "      <td>218.081158</td>\n",
              "      <td>96.759853</td>\n",
              "      <td>1713.600303</td>\n",
              "    </tr>\n",
              "    <tr>\n",
              "      <th>min</th>\n",
              "      <td>-80995.000000</td>\n",
              "      <td>-11062.060000</td>\n",
              "      <td>12346.000000</td>\n",
              "    </tr>\n",
              "    <tr>\n",
              "      <th>25%</th>\n",
              "      <td>1.000000</td>\n",
              "      <td>1.250000</td>\n",
              "      <td>13953.000000</td>\n",
              "    </tr>\n",
              "    <tr>\n",
              "      <th>50%</th>\n",
              "      <td>3.000000</td>\n",
              "      <td>2.080000</td>\n",
              "      <td>15152.000000</td>\n",
              "    </tr>\n",
              "    <tr>\n",
              "      <th>75%</th>\n",
              "      <td>10.000000</td>\n",
              "      <td>4.130000</td>\n",
              "      <td>16791.000000</td>\n",
              "    </tr>\n",
              "    <tr>\n",
              "      <th>max</th>\n",
              "      <td>80995.000000</td>\n",
              "      <td>38970.000000</td>\n",
              "      <td>18287.000000</td>\n",
              "    </tr>\n",
              "  </tbody>\n",
              "</table>\n",
              "</div>\n",
              "      <button class=\"colab-df-convert\" onclick=\"convertToInteractive('df-0a8b01a8-7943-4c6e-b833-10a95c69f477')\"\n",
              "              title=\"Convert this dataframe to an interactive table.\"\n",
              "              style=\"display:none;\">\n",
              "        \n",
              "  <svg xmlns=\"http://www.w3.org/2000/svg\" height=\"24px\"viewBox=\"0 0 24 24\"\n",
              "       width=\"24px\">\n",
              "    <path d=\"M0 0h24v24H0V0z\" fill=\"none\"/>\n",
              "    <path d=\"M18.56 5.44l.94 2.06.94-2.06 2.06-.94-2.06-.94-.94-2.06-.94 2.06-2.06.94zm-11 1L8.5 8.5l.94-2.06 2.06-.94-2.06-.94L8.5 2.5l-.94 2.06-2.06.94zm10 10l.94 2.06.94-2.06 2.06-.94-2.06-.94-.94-2.06-.94 2.06-2.06.94z\"/><path d=\"M17.41 7.96l-1.37-1.37c-.4-.4-.92-.59-1.43-.59-.52 0-1.04.2-1.43.59L10.3 9.45l-7.72 7.72c-.78.78-.78 2.05 0 2.83L4 21.41c.39.39.9.59 1.41.59.51 0 1.02-.2 1.41-.59l7.78-7.78 2.81-2.81c.8-.78.8-2.07 0-2.86zM5.41 20L4 18.59l7.72-7.72 1.47 1.35L5.41 20z\"/>\n",
              "  </svg>\n",
              "      </button>\n",
              "      \n",
              "  <style>\n",
              "    .colab-df-container {\n",
              "      display:flex;\n",
              "      flex-wrap:wrap;\n",
              "      gap: 12px;\n",
              "    }\n",
              "\n",
              "    .colab-df-convert {\n",
              "      background-color: #E8F0FE;\n",
              "      border: none;\n",
              "      border-radius: 50%;\n",
              "      cursor: pointer;\n",
              "      display: none;\n",
              "      fill: #1967D2;\n",
              "      height: 32px;\n",
              "      padding: 0 0 0 0;\n",
              "      width: 32px;\n",
              "    }\n",
              "\n",
              "    .colab-df-convert:hover {\n",
              "      background-color: #E2EBFA;\n",
              "      box-shadow: 0px 1px 2px rgba(60, 64, 67, 0.3), 0px 1px 3px 1px rgba(60, 64, 67, 0.15);\n",
              "      fill: #174EA6;\n",
              "    }\n",
              "\n",
              "    [theme=dark] .colab-df-convert {\n",
              "      background-color: #3B4455;\n",
              "      fill: #D2E3FC;\n",
              "    }\n",
              "\n",
              "    [theme=dark] .colab-df-convert:hover {\n",
              "      background-color: #434B5C;\n",
              "      box-shadow: 0px 1px 3px 1px rgba(0, 0, 0, 0.15);\n",
              "      filter: drop-shadow(0px 1px 2px rgba(0, 0, 0, 0.3));\n",
              "      fill: #FFFFFF;\n",
              "    }\n",
              "  </style>\n",
              "\n",
              "      <script>\n",
              "        const buttonEl =\n",
              "          document.querySelector('#df-0a8b01a8-7943-4c6e-b833-10a95c69f477 button.colab-df-convert');\n",
              "        buttonEl.style.display =\n",
              "          google.colab.kernel.accessAllowed ? 'block' : 'none';\n",
              "\n",
              "        async function convertToInteractive(key) {\n",
              "          const element = document.querySelector('#df-0a8b01a8-7943-4c6e-b833-10a95c69f477');\n",
              "          const dataTable =\n",
              "            await google.colab.kernel.invokeFunction('convertToInteractive',\n",
              "                                                     [key], {});\n",
              "          if (!dataTable) return;\n",
              "\n",
              "          const docLinkHtml = 'Like what you see? Visit the ' +\n",
              "            '<a target=\"_blank\" href=https://colab.research.google.com/notebooks/data_table.ipynb>data table notebook</a>'\n",
              "            + ' to learn more about interactive tables.';\n",
              "          element.innerHTML = '';\n",
              "          dataTable['output_type'] = 'display_data';\n",
              "          await google.colab.output.renderOutput(dataTable, element);\n",
              "          const docLink = document.createElement('div');\n",
              "          docLink.innerHTML = docLinkHtml;\n",
              "          element.appendChild(docLink);\n",
              "        }\n",
              "      </script>\n",
              "    </div>\n",
              "  </div>\n",
              "  "
            ]
          },
          "metadata": {},
          "execution_count": 4
        }
      ]
    },
    {
      "cell_type": "code",
      "source": [
        "df['Product ID'].unique()"
      ],
      "metadata": {
        "colab": {
          "base_uri": "https://localhost:8080/"
        },
        "id": "lxNXaTAlZk6z",
        "outputId": "aa1d159a-6b87-4a22-a09f-0e6e6f47df8f"
      },
      "execution_count": null,
      "outputs": [
        {
          "output_type": "execute_result",
          "data": {
            "text/plain": [
              "array([10002, 10080, 10120, ..., 'PADS', 'POST', 'S'], dtype=object)"
            ]
          },
          "metadata": {},
          "execution_count": 5
        }
      ]
    },
    {
      "cell_type": "markdown",
      "source": [
        "##As we see there are many different products in the dataset. We will consider only one product for this project the same steps can be used for other products as well"
      ],
      "metadata": {
        "id": "hJHqybWeZucX"
      }
    },
    {
      "cell_type": "code",
      "source": [
        "data_10002 = df.loc[df['Product ID'] == 10002]\n",
        "data_10002= data_10002[data_10002['UnitPrice'] != 0.0] #Remove Products with Zero UnitPrice\n",
        "data_10002.head(10)"
      ],
      "metadata": {
        "colab": {
          "base_uri": "https://localhost:8080/"
        },
        "id": "uT6nVrfTr1vY",
        "outputId": "36811bca-6ff9-4c90-d9b3-1d35cc607e6d"
      },
      "execution_count": null,
      "outputs": [
        {
          "output_type": "execute_result",
          "data": {
            "text/plain": [
              "  OrderID Product ID                  Description  Quantity        Order Date  \\\n",
              "0  541518      10002  INFLATABLE POLITICAL GLOBE         12    1/19/2011 9:05   \n",
              "1  541491      10002  INFLATABLE POLITICAL GLOBE         24   1/18/2011 14:04   \n",
              "2  536370      10002  INFLATABLE POLITICAL GLOBE         48    12/1/2010 8:45   \n",
              "3  541631      10002  INFLATABLE POLITICAL GLOBE         12   1/20/2011 10:48   \n",
              "4  541277      10002  INFLATABLE POLITICAL GLOBE          1   1/17/2011 11:46   \n",
              "5  542735      10002  INFLATABLE POLITICAL GLOBE         12   1/31/2011 15:36   \n",
              "6  538093      10002  INFLATABLE POLITICAL GLOBE         12   12/9/2010 14:49   \n",
              "7  540239      10002  INFLATABLE POLITICAL GLOBE         12    1/5/2011 14:48   \n",
              "8  538196      10002  INFLATABLE POLITICAL GLOBE         36  12/10/2010 10:56   \n",
              "9  542629      10002  INFLATABLE POLITICAL GLOBE        120    1/31/2011 9:57   \n",
              "\n",
              "   UnitPrice  CustomerID      Country  \n",
              "0       0.85     12451.0  Switzerland  \n",
              "1       0.85     12510.0        Spain  \n",
              "2       0.85     12583.0       France  \n",
              "3       0.85     12637.0       France  \n",
              "4       0.85     12673.0      Germany  \n",
              "5       0.85     12681.0       France  \n",
              "6       0.85     12682.0       France  \n",
              "7       0.85     12682.0       France  \n",
              "8       0.85     12731.0       France  \n",
              "9       0.85     12731.0       France  "
            ],
            "text/html": [
              "\n",
              "  <div id=\"df-921ed19d-6b55-4a50-a5e3-d160457b9a1e\">\n",
              "    <div class=\"colab-df-container\">\n",
              "      <div>\n",
              "<style scoped>\n",
              "    .dataframe tbody tr th:only-of-type {\n",
              "        vertical-align: middle;\n",
              "    }\n",
              "\n",
              "    .dataframe tbody tr th {\n",
              "        vertical-align: top;\n",
              "    }\n",
              "\n",
              "    .dataframe thead th {\n",
              "        text-align: right;\n",
              "    }\n",
              "</style>\n",
              "<table border=\"1\" class=\"dataframe\">\n",
              "  <thead>\n",
              "    <tr style=\"text-align: right;\">\n",
              "      <th></th>\n",
              "      <th>OrderID</th>\n",
              "      <th>Product ID</th>\n",
              "      <th>Description</th>\n",
              "      <th>Quantity</th>\n",
              "      <th>Order Date</th>\n",
              "      <th>UnitPrice</th>\n",
              "      <th>CustomerID</th>\n",
              "      <th>Country</th>\n",
              "    </tr>\n",
              "  </thead>\n",
              "  <tbody>\n",
              "    <tr>\n",
              "      <th>0</th>\n",
              "      <td>541518</td>\n",
              "      <td>10002</td>\n",
              "      <td>INFLATABLE POLITICAL GLOBE</td>\n",
              "      <td>12</td>\n",
              "      <td>1/19/2011 9:05</td>\n",
              "      <td>0.85</td>\n",
              "      <td>12451.0</td>\n",
              "      <td>Switzerland</td>\n",
              "    </tr>\n",
              "    <tr>\n",
              "      <th>1</th>\n",
              "      <td>541491</td>\n",
              "      <td>10002</td>\n",
              "      <td>INFLATABLE POLITICAL GLOBE</td>\n",
              "      <td>24</td>\n",
              "      <td>1/18/2011 14:04</td>\n",
              "      <td>0.85</td>\n",
              "      <td>12510.0</td>\n",
              "      <td>Spain</td>\n",
              "    </tr>\n",
              "    <tr>\n",
              "      <th>2</th>\n",
              "      <td>536370</td>\n",
              "      <td>10002</td>\n",
              "      <td>INFLATABLE POLITICAL GLOBE</td>\n",
              "      <td>48</td>\n",
              "      <td>12/1/2010 8:45</td>\n",
              "      <td>0.85</td>\n",
              "      <td>12583.0</td>\n",
              "      <td>France</td>\n",
              "    </tr>\n",
              "    <tr>\n",
              "      <th>3</th>\n",
              "      <td>541631</td>\n",
              "      <td>10002</td>\n",
              "      <td>INFLATABLE POLITICAL GLOBE</td>\n",
              "      <td>12</td>\n",
              "      <td>1/20/2011 10:48</td>\n",
              "      <td>0.85</td>\n",
              "      <td>12637.0</td>\n",
              "      <td>France</td>\n",
              "    </tr>\n",
              "    <tr>\n",
              "      <th>4</th>\n",
              "      <td>541277</td>\n",
              "      <td>10002</td>\n",
              "      <td>INFLATABLE POLITICAL GLOBE</td>\n",
              "      <td>1</td>\n",
              "      <td>1/17/2011 11:46</td>\n",
              "      <td>0.85</td>\n",
              "      <td>12673.0</td>\n",
              "      <td>Germany</td>\n",
              "    </tr>\n",
              "    <tr>\n",
              "      <th>5</th>\n",
              "      <td>542735</td>\n",
              "      <td>10002</td>\n",
              "      <td>INFLATABLE POLITICAL GLOBE</td>\n",
              "      <td>12</td>\n",
              "      <td>1/31/2011 15:36</td>\n",
              "      <td>0.85</td>\n",
              "      <td>12681.0</td>\n",
              "      <td>France</td>\n",
              "    </tr>\n",
              "    <tr>\n",
              "      <th>6</th>\n",
              "      <td>538093</td>\n",
              "      <td>10002</td>\n",
              "      <td>INFLATABLE POLITICAL GLOBE</td>\n",
              "      <td>12</td>\n",
              "      <td>12/9/2010 14:49</td>\n",
              "      <td>0.85</td>\n",
              "      <td>12682.0</td>\n",
              "      <td>France</td>\n",
              "    </tr>\n",
              "    <tr>\n",
              "      <th>7</th>\n",
              "      <td>540239</td>\n",
              "      <td>10002</td>\n",
              "      <td>INFLATABLE POLITICAL GLOBE</td>\n",
              "      <td>12</td>\n",
              "      <td>1/5/2011 14:48</td>\n",
              "      <td>0.85</td>\n",
              "      <td>12682.0</td>\n",
              "      <td>France</td>\n",
              "    </tr>\n",
              "    <tr>\n",
              "      <th>8</th>\n",
              "      <td>538196</td>\n",
              "      <td>10002</td>\n",
              "      <td>INFLATABLE POLITICAL GLOBE</td>\n",
              "      <td>36</td>\n",
              "      <td>12/10/2010 10:56</td>\n",
              "      <td>0.85</td>\n",
              "      <td>12731.0</td>\n",
              "      <td>France</td>\n",
              "    </tr>\n",
              "    <tr>\n",
              "      <th>9</th>\n",
              "      <td>542629</td>\n",
              "      <td>10002</td>\n",
              "      <td>INFLATABLE POLITICAL GLOBE</td>\n",
              "      <td>120</td>\n",
              "      <td>1/31/2011 9:57</td>\n",
              "      <td>0.85</td>\n",
              "      <td>12731.0</td>\n",
              "      <td>France</td>\n",
              "    </tr>\n",
              "  </tbody>\n",
              "</table>\n",
              "</div>\n",
              "      <button class=\"colab-df-convert\" onclick=\"convertToInteractive('df-921ed19d-6b55-4a50-a5e3-d160457b9a1e')\"\n",
              "              title=\"Convert this dataframe to an interactive table.\"\n",
              "              style=\"display:none;\">\n",
              "        \n",
              "  <svg xmlns=\"http://www.w3.org/2000/svg\" height=\"24px\"viewBox=\"0 0 24 24\"\n",
              "       width=\"24px\">\n",
              "    <path d=\"M0 0h24v24H0V0z\" fill=\"none\"/>\n",
              "    <path d=\"M18.56 5.44l.94 2.06.94-2.06 2.06-.94-2.06-.94-.94-2.06-.94 2.06-2.06.94zm-11 1L8.5 8.5l.94-2.06 2.06-.94-2.06-.94L8.5 2.5l-.94 2.06-2.06.94zm10 10l.94 2.06.94-2.06 2.06-.94-2.06-.94-.94-2.06-.94 2.06-2.06.94z\"/><path d=\"M17.41 7.96l-1.37-1.37c-.4-.4-.92-.59-1.43-.59-.52 0-1.04.2-1.43.59L10.3 9.45l-7.72 7.72c-.78.78-.78 2.05 0 2.83L4 21.41c.39.39.9.59 1.41.59.51 0 1.02-.2 1.41-.59l7.78-7.78 2.81-2.81c.8-.78.8-2.07 0-2.86zM5.41 20L4 18.59l7.72-7.72 1.47 1.35L5.41 20z\"/>\n",
              "  </svg>\n",
              "      </button>\n",
              "      \n",
              "  <style>\n",
              "    .colab-df-container {\n",
              "      display:flex;\n",
              "      flex-wrap:wrap;\n",
              "      gap: 12px;\n",
              "    }\n",
              "\n",
              "    .colab-df-convert {\n",
              "      background-color: #E8F0FE;\n",
              "      border: none;\n",
              "      border-radius: 50%;\n",
              "      cursor: pointer;\n",
              "      display: none;\n",
              "      fill: #1967D2;\n",
              "      height: 32px;\n",
              "      padding: 0 0 0 0;\n",
              "      width: 32px;\n",
              "    }\n",
              "\n",
              "    .colab-df-convert:hover {\n",
              "      background-color: #E2EBFA;\n",
              "      box-shadow: 0px 1px 2px rgba(60, 64, 67, 0.3), 0px 1px 3px 1px rgba(60, 64, 67, 0.15);\n",
              "      fill: #174EA6;\n",
              "    }\n",
              "\n",
              "    [theme=dark] .colab-df-convert {\n",
              "      background-color: #3B4455;\n",
              "      fill: #D2E3FC;\n",
              "    }\n",
              "\n",
              "    [theme=dark] .colab-df-convert:hover {\n",
              "      background-color: #434B5C;\n",
              "      box-shadow: 0px 1px 3px 1px rgba(0, 0, 0, 0.15);\n",
              "      filter: drop-shadow(0px 1px 2px rgba(0, 0, 0, 0.3));\n",
              "      fill: #FFFFFF;\n",
              "    }\n",
              "  </style>\n",
              "\n",
              "      <script>\n",
              "        const buttonEl =\n",
              "          document.querySelector('#df-921ed19d-6b55-4a50-a5e3-d160457b9a1e button.colab-df-convert');\n",
              "        buttonEl.style.display =\n",
              "          google.colab.kernel.accessAllowed ? 'block' : 'none';\n",
              "\n",
              "        async function convertToInteractive(key) {\n",
              "          const element = document.querySelector('#df-921ed19d-6b55-4a50-a5e3-d160457b9a1e');\n",
              "          const dataTable =\n",
              "            await google.colab.kernel.invokeFunction('convertToInteractive',\n",
              "                                                     [key], {});\n",
              "          if (!dataTable) return;\n",
              "\n",
              "          const docLinkHtml = 'Like what you see? Visit the ' +\n",
              "            '<a target=\"_blank\" href=https://colab.research.google.com/notebooks/data_table.ipynb>data table notebook</a>'\n",
              "            + ' to learn more about interactive tables.';\n",
              "          element.innerHTML = '';\n",
              "          dataTable['output_type'] = 'display_data';\n",
              "          await google.colab.output.renderOutput(dataTable, element);\n",
              "          const docLink = document.createElement('div');\n",
              "          docLink.innerHTML = docLinkHtml;\n",
              "          element.appendChild(docLink);\n",
              "        }\n",
              "      </script>\n",
              "    </div>\n",
              "  </div>\n",
              "  "
            ]
          },
          "metadata": {},
          "execution_count": 6
        }
      ]
    },
    {
      "cell_type": "code",
      "source": [
        "df.info()"
      ],
      "metadata": {
        "colab": {
          "base_uri": "https://localhost:8080/"
        },
        "id": "jJib1QfsaC-1",
        "outputId": "24de7885-fd98-47f9-9db4-9d148b1fdc59"
      },
      "execution_count": null,
      "outputs": [
        {
          "output_type": "stream",
          "name": "stdout",
          "text": [
            "<class 'pandas.core.frame.DataFrame'>\n",
            "RangeIndex: 541909 entries, 0 to 541908\n",
            "Data columns (total 8 columns):\n",
            " #   Column       Non-Null Count   Dtype  \n",
            "---  ------       --------------   -----  \n",
            " 0   OrderID      541909 non-null  object \n",
            " 1   Product ID   541909 non-null  object \n",
            " 2   Description  540455 non-null  object \n",
            " 3   Quantity     541909 non-null  int64  \n",
            " 4   Order Date   541909 non-null  object \n",
            " 5   UnitPrice    541909 non-null  float64\n",
            " 6   CustomerID   406829 non-null  float64\n",
            " 7   Country      541909 non-null  object \n",
            "dtypes: float64(2), int64(1), object(5)\n",
            "memory usage: 33.1+ MB\n"
          ]
        }
      ]
    },
    {
      "cell_type": "markdown",
      "source": [
        "#Training the OLS model\n",
        "\n",
        "**Ordinary Least Squares regression** (OLS) is a common technique for estimating coefficients of linear regression equations which describe the relationship between one or more independent quantitative variables and a dependent variable (simple or multiple linear regression). Least squares stand for the minimum squares error (SSE). Maximum likelihood and Generalized method of moments estimator are alternative approaches to OLS.\n",
        "\n",
        "By training the ols model we try to find the relation betweeen the UnitPrice and Quantity and make predictions for Quantity based on any given UnitPrice."
      ],
      "metadata": {
        "id": "M4hzMLluXuCL"
      }
    },
    {
      "cell_type": "code",
      "execution_count": null,
      "metadata": {
        "id": "CP1AUa-doJaz"
      },
      "outputs": [],
      "source": [
        "def create_model_and_find_elasticity(data):\n",
        "  p = data_10002[['UnitPrice']]\n",
        "  q = data_10002[['Quantity']]\n",
        "  model = ols(\"Quantity ~ UnitPrice\", data).fit()\n",
        "  model_reverse = sm.OLS(q,p).fit()\n",
        "  price_elasticity = model.params[1]\n",
        "  print(\"Price elasticity of the product: \" + str(price_elasticity))\n",
        "  print(model.summary())\n",
        "  fig = plt.figure(figsize=(12,8))\n",
        "  fig = sm.graphics.plot_partregress_grid(model, fig=fig)\n",
        "  return price_elasticity, model, model_reverse"
      ]
    },
    {
      "cell_type": "code",
      "execution_count": null,
      "metadata": {
        "colab": {
          "base_uri": "https://localhost:8080/",
          "height": 1000
        },
        "id": "Od068nwYoJa0",
        "outputId": "5dcf9765-c890-475b-e8b8-9e037de515b1"
      },
      "outputs": [
        {
          "output_type": "stream",
          "name": "stdout",
          "text": [
            "Price elasticity of the product: -18.439451422002907\n",
            "                            OLS Regression Results                            \n",
            "==============================================================================\n",
            "Dep. Variable:               Quantity   R-squared:                       0.093\n",
            "Model:                            OLS   Adj. R-squared:                  0.079\n",
            "Method:                 Least Squares   F-statistic:                     7.040\n",
            "Date:                Thu, 15 Dec 2022   Prob (F-statistic):            0.00988\n",
            "Time:                        21:11:38   Log-Likelihood:                -317.18\n",
            "No. Observations:                  71   AIC:                             638.4\n",
            "Df Residuals:                      69   BIC:                             642.9\n",
            "Df Model:                           1                                         \n",
            "Covariance Type:            nonrobust                                         \n",
            "==============================================================================\n",
            "                 coef    std err          t      P>|t|      [0.025      0.975]\n",
            "------------------------------------------------------------------------------\n",
            "Intercept     32.1493      7.966      4.036      0.000      16.257      48.042\n",
            "UnitPrice    -18.4395      6.949     -2.653      0.010     -32.303      -4.576\n",
            "==============================================================================\n",
            "Omnibus:                       81.903   Durbin-Watson:                   1.242\n",
            "Prob(Omnibus):                  0.000   Jarque-Bera (JB):              737.954\n",
            "Skew:                           3.573   Prob(JB):                    5.69e-161\n",
            "Kurtosis:                      17.085   Cond. No.                         6.17\n",
            "==============================================================================\n",
            "\n",
            "Notes:\n",
            "[1] Standard Errors assume that the covariance matrix of the errors is correctly specified.\n",
            "-18.439451422002907\n"
          ]
        },
        {
          "output_type": "display_data",
          "data": {
            "text/plain": [
              "<Figure size 864x576 with 2 Axes>"
            ],
            "image/png": "[encoded data removed]"
          },
          "metadata": {
            "needs_background": "light"
          }
        }
      ],
      "source": [
        "elasticities = {}\n",
        "price_elasticity, ols_model_10002, ols_model_10002_reverse, = create_model_and_find_elasticity(data_10002)\n",
        "elasticities['ols_model_10002'] = price_elasticity\n",
        "print (price_elasticity)"
      ]
    },
    {
      "cell_type": "code",
      "source": [
        "fig = plt.figure(figsize=(12,8))\n",
        "fig = sm.graphics.plot_regress_exog(ols_model_10002, \"UnitPrice\", fig=fig)"
      ],
      "metadata": {
        "colab": {
          "base_uri": "https://localhost:8080/",
          "height": 585
        },
        "id": "xz-j_pPueJk1",
        "outputId": "a24876b7-b28a-4b94-b931-042f4061ab5e"
      },
      "execution_count": null,
      "outputs": [
        {
          "output_type": "display_data",
          "data": {
            "text/plain": [
              "<Figure size 864x576 with 4 Axes>"
            ],
            "image/png": "[encoded data removed]"
          },
          "metadata": {
            "needs_background": "light"
          }
        }
      ]
    },
    {
      "cell_type": "code",
      "source": [
        "fig = plt.figure(figsize=(12,8))\n",
        "fig = sm.graphics.plot_regress_exog(ols_model_10002_reverse, \"UnitPrice\", fig=fig)"
      ],
      "metadata": {
        "colab": {
          "base_uri": "https://localhost:8080/",
          "height": 585
        },
        "id": "2NLjVykpeKPr",
        "outputId": "f3906c6c-81ff-4e6c-e08d-7d5339e27ea6"
      },
      "execution_count": null,
      "outputs": [
        {
          "output_type": "display_data",
          "data": {
            "text/plain": [
              "<Figure size 864x576 with 4 Axes>"
            ],
            "image/png": "[encoded data removed]"
          },
          "metadata": {
            "needs_background": "light"
          }
        }
      ]
    },
    {
      "cell_type": "markdown",
      "source": [
        "Now we try to find the range for our price so that we can find the optimal price to achieve maximum profit. "
      ],
      "metadata": {
        "id": "sDdJEpqpeUQ1"
      }
    },
    {
      "cell_type": "code",
      "execution_count": null,
      "metadata": {
        "colab": {
          "base_uri": "https://localhost:8080/"
        },
        "id": "T2-qknDaoJa1",
        "outputId": "9830ffb5-a2e7-45cc-8ba7-f126b25a8c53"
      },
      "outputs": [
        {
          "output_type": "stream",
          "name": "stdout",
          "text": [
            "0.85\n",
            "1.66\n"
          ]
        }
      ],
      "source": [
        "data_10002 = data_10002\n",
        "min_10002 = data_10002.UnitPrice.min()\n",
        "max_10002 = data_10002.UnitPrice.max()\n",
        "print (min_10002)\n",
        "print (max_10002)"
      ]
    },
    {
      "cell_type": "markdown",
      "source": [
        "## Here from the OLS model that we trained we generate a new dataset with UnitPrice and Quantity"
      ],
      "metadata": {
        "id": "RrnWeXqbxRnc"
      }
    },
    {
      "cell_type": "code",
      "execution_count": null,
      "metadata": {
        "colab": {
          "base_uri": "https://localhost:8080/",
          "height": 424
        },
        "id": "2KyuAtt9oJa2",
        "outputId": "0f556307-89dd-400b-8cc3-fe6647186036"
      },
      "outputs": [
        {
          "output_type": "execute_result",
          "data": {
            "text/plain": [
              "     UnitPrice   Quantity\n",
              "0         0.70  19.241732\n",
              "1         0.71  19.057337\n",
              "2         0.72  18.872943\n",
              "3         0.73  18.688548\n",
              "4         0.74  18.504154\n",
              "..         ...        ...\n",
              "105       1.75  -0.119692\n",
              "106       1.76  -0.304087\n",
              "107       1.77  -0.488481\n",
              "108       1.78  -0.672876\n",
              "109       1.79  -0.857270\n",
              "\n",
              "[110 rows x 2 columns]"
            ],
            "text/html": [
              "\n",
              "  <div id=\"df-96f8ef3a-390c-4003-9f70-7f3ef7d2782f\">\n",
              "    <div class=\"colab-df-container\">\n",
              "      <div>\n",
              "<style scoped>\n",
              "    .dataframe tbody tr th:only-of-type {\n",
              "        vertical-align: middle;\n",
              "    }\n",
              "\n",
              "    .dataframe tbody tr th {\n",
              "        vertical-align: top;\n",
              "    }\n",
              "\n",
              "    .dataframe thead th {\n",
              "        text-align: right;\n",
              "    }\n",
              "</style>\n",
              "<table border=\"1\" class=\"dataframe\">\n",
              "  <thead>\n",
              "    <tr style=\"text-align: right;\">\n",
              "      <th></th>\n",
              "      <th>UnitPrice</th>\n",
              "      <th>Quantity</th>\n",
              "    </tr>\n",
              "  </thead>\n",
              "  <tbody>\n",
              "    <tr>\n",
              "      <th>0</th>\n",
              "      <td>0.70</td>\n",
              "      <td>19.241732</td>\n",
              "    </tr>\n",
              "    <tr>\n",
              "      <th>1</th>\n",
              "      <td>0.71</td>\n",
              "      <td>19.057337</td>\n",
              "    </tr>\n",
              "    <tr>\n",
              "      <th>2</th>\n",
              "      <td>0.72</td>\n",
              "      <td>18.872943</td>\n",
              "    </tr>\n",
              "    <tr>\n",
              "      <th>3</th>\n",
              "      <td>0.73</td>\n",
              "      <td>18.688548</td>\n",
              "    </tr>\n",
              "    <tr>\n",
              "      <th>4</th>\n",
              "      <td>0.74</td>\n",
              "      <td>18.504154</td>\n",
              "    </tr>\n",
              "    <tr>\n",
              "      <th>...</th>\n",
              "      <td>...</td>\n",
              "      <td>...</td>\n",
              "    </tr>\n",
              "    <tr>\n",
              "      <th>105</th>\n",
              "      <td>1.75</td>\n",
              "      <td>-0.119692</td>\n",
              "    </tr>\n",
              "    <tr>\n",
              "      <th>106</th>\n",
              "      <td>1.76</td>\n",
              "      <td>-0.304087</td>\n",
              "    </tr>\n",
              "    <tr>\n",
              "      <th>107</th>\n",
              "      <td>1.77</td>\n",
              "      <td>-0.488481</td>\n",
              "    </tr>\n",
              "    <tr>\n",
              "      <th>108</th>\n",
              "      <td>1.78</td>\n",
              "      <td>-0.672876</td>\n",
              "    </tr>\n",
              "    <tr>\n",
              "      <th>109</th>\n",
              "      <td>1.79</td>\n",
              "      <td>-0.857270</td>\n",
              "    </tr>\n",
              "  </tbody>\n",
              "</table>\n",
              "<p>110 rows × 2 columns</p>\n",
              "</div>\n",
              "      <button class=\"colab-df-convert\" onclick=\"convertToInteractive('df-96f8ef3a-390c-4003-9f70-7f3ef7d2782f')\"\n",
              "              title=\"Convert this dataframe to an interactive table.\"\n",
              "              style=\"display:none;\">\n",
              "        \n",
              "  <svg xmlns=\"http://www.w3.org/2000/svg\" height=\"24px\"viewBox=\"0 0 24 24\"\n",
              "       width=\"24px\">\n",
              "    <path d=\"M0 0h24v24H0V0z\" fill=\"none\"/>\n",
              "    <path d=\"M18.56 5.44l.94 2.06.94-2.06 2.06-.94-2.06-.94-.94-2.06-.94 2.06-2.06.94zm-11 1L8.5 8.5l.94-2.06 2.06-.94-2.06-.94L8.5 2.5l-.94 2.06-2.06.94zm10 10l.94 2.06.94-2.06 2.06-.94-2.06-.94-.94-2.06-.94 2.06-2.06.94z\"/><path d=\"M17.41 7.96l-1.37-1.37c-.4-.4-.92-.59-1.43-.59-.52 0-1.04.2-1.43.59L10.3 9.45l-7.72 7.72c-.78.78-.78 2.05 0 2.83L4 21.41c.39.39.9.59 1.41.59.51 0 1.02-.2 1.41-.59l7.78-7.78 2.81-2.81c.8-.78.8-2.07 0-2.86zM5.41 20L4 18.59l7.72-7.72 1.47 1.35L5.41 20z\"/>\n",
              "  </svg>\n",
              "      </button>\n",
              "      \n",
              "  <style>\n",
              "    .colab-df-container {\n",
              "      display:flex;\n",
              "      flex-wrap:wrap;\n",
              "      gap: 12px;\n",
              "    }\n",
              "\n",
              "    .colab-df-convert {\n",
              "      background-color: #E8F0FE;\n",
              "      border: none;\n",
              "      border-radius: 50%;\n",
              "      cursor: pointer;\n",
              "      display: none;\n",
              "      fill: #1967D2;\n",
              "      height: 32px;\n",
              "      padding: 0 0 0 0;\n",
              "      width: 32px;\n",
              "    }\n",
              "\n",
              "    .colab-df-convert:hover {\n",
              "      background-color: #E2EBFA;\n",
              "      box-shadow: 0px 1px 2px rgba(60, 64, 67, 0.3), 0px 1px 3px 1px rgba(60, 64, 67, 0.15);\n",
              "      fill: #174EA6;\n",
              "    }\n",
              "\n",
              "    [theme=dark] .colab-df-convert {\n",
              "      background-color: #3B4455;\n",
              "      fill: #D2E3FC;\n",
              "    }\n",
              "\n",
              "    [theme=dark] .colab-df-convert:hover {\n",
              "      background-color: #434B5C;\n",
              "      box-shadow: 0px 1px 3px 1px rgba(0, 0, 0, 0.15);\n",
              "      filter: drop-shadow(0px 1px 2px rgba(0, 0, 0, 0.3));\n",
              "      fill: #FFFFFF;\n",
              "    }\n",
              "  </style>\n",
              "\n",
              "      <script>\n",
              "        const buttonEl =\n",
              "          document.querySelector('#df-96f8ef3a-390c-4003-9f70-7f3ef7d2782f button.colab-df-convert');\n",
              "        buttonEl.style.display =\n",
              "          google.colab.kernel.accessAllowed ? 'block' : 'none';\n",
              "\n",
              "        async function convertToInteractive(key) {\n",
              "          const element = document.querySelector('#df-96f8ef3a-390c-4003-9f70-7f3ef7d2782f');\n",
              "          const dataTable =\n",
              "            await google.colab.kernel.invokeFunction('convertToInteractive',\n",
              "                                                     [key], {});\n",
              "          if (!dataTable) return;\n",
              "\n",
              "          const docLinkHtml = 'Like what you see? Visit the ' +\n",
              "            '<a target=\"_blank\" href=https://colab.research.google.com/notebooks/data_table.ipynb>data table notebook</a>'\n",
              "            + ' to learn more about interactive tables.';\n",
              "          element.innerHTML = '';\n",
              "          dataTable['output_type'] = 'display_data';\n",
              "          await google.colab.output.renderOutput(dataTable, element);\n",
              "          const docLink = document.createElement('div');\n",
              "          docLink.innerHTML = docLinkHtml;\n",
              "          element.appendChild(docLink);\n",
              "        }\n",
              "      </script>\n",
              "    </div>\n",
              "  </div>\n",
              "  "
            ]
          },
          "metadata": {},
          "execution_count": 13
        }
      ],
      "source": [
        "buying_price_10002 = 0.7  # Assuming a base price to calculate profits \n",
        "start_price = 0.70\n",
        "end_price =1.80\n",
        "test = pd.DataFrame(columns = [\"UnitPrice\", \"Quantity\"])\n",
        "test['UnitPrice'] = np.arange(start_price, end_price,0.01)\n",
        "test['Quantity'] = ols_model_10002.predict(test['UnitPrice'])\n",
        "test"
      ]
    },
    {
      "cell_type": "code",
      "execution_count": null,
      "metadata": {
        "colab": {
          "base_uri": "https://localhost:8080/"
        },
        "id": "QnpzHZvLoJa3",
        "outputId": "ff8cf366-33e4-4251-972b-2f50c9065295"
      },
      "outputs": [
        {
          "output_type": "execute_result",
          "data": {
            "text/plain": [
              "     UnitPrice   Quantity    Profit\n",
              "0         0.70  19.241732  0.000000\n",
              "1         0.71  19.057337  0.190573\n",
              "2         0.72  18.872943  0.377459\n",
              "3         0.73  18.688548  0.560656\n",
              "4         0.74  18.504154  0.740166\n",
              "..         ...        ...       ...\n",
              "105       1.75  -0.119692 -0.125677\n",
              "106       1.76  -0.304087 -0.322332\n",
              "107       1.77  -0.488481 -0.522675\n",
              "108       1.78  -0.672876 -0.726706\n",
              "109       1.79  -0.857270 -0.934425\n",
              "\n",
              "[110 rows x 3 columns]"
            ],
            "text/html": [
              "\n",
              "  <div id=\"df-bfbd2919-29d6-4a89-886c-ac0d8290499b\">\n",
              "    <div class=\"colab-df-container\">\n",
              "      <div>\n",
              "<style scoped>\n",
              "    .dataframe tbody tr th:only-of-type {\n",
              "        vertical-align: middle;\n",
              "    }\n",
              "\n",
              "    .dataframe tbody tr th {\n",
              "        vertical-align: top;\n",
              "    }\n",
              "\n",
              "    .dataframe thead th {\n",
              "        text-align: right;\n",
              "    }\n",
              "</style>\n",
              "<table border=\"1\" class=\"dataframe\">\n",
              "  <thead>\n",
              "    <tr style=\"text-align: right;\">\n",
              "      <th></th>\n",
              "      <th>UnitPrice</th>\n",
              "      <th>Quantity</th>\n",
              "      <th>Profit</th>\n",
              "    </tr>\n",
              "  </thead>\n",
              "  <tbody>\n",
              "    <tr>\n",
              "      <th>0</th>\n",
              "      <td>0.70</td>\n",
              "      <td>19.241732</td>\n",
              "      <td>0.000000</td>\n",
              "    </tr>\n",
              "    <tr>\n",
              "      <th>1</th>\n",
              "      <td>0.71</td>\n",
              "      <td>19.057337</td>\n",
              "      <td>0.190573</td>\n",
              "    </tr>\n",
              "    <tr>\n",
              "      <th>2</th>\n",
              "      <td>0.72</td>\n",
              "      <td>18.872943</td>\n",
              "      <td>0.377459</td>\n",
              "    </tr>\n",
              "    <tr>\n",
              "      <th>3</th>\n",
              "      <td>0.73</td>\n",
              "      <td>18.688548</td>\n",
              "      <td>0.560656</td>\n",
              "    </tr>\n",
              "    <tr>\n",
              "      <th>4</th>\n",
              "      <td>0.74</td>\n",
              "      <td>18.504154</td>\n",
              "      <td>0.740166</td>\n",
              "    </tr>\n",
              "    <tr>\n",
              "      <th>...</th>\n",
              "      <td>...</td>\n",
              "      <td>...</td>\n",
              "      <td>...</td>\n",
              "    </tr>\n",
              "    <tr>\n",
              "      <th>105</th>\n",
              "      <td>1.75</td>\n",
              "      <td>-0.119692</td>\n",
              "      <td>-0.125677</td>\n",
              "    </tr>\n",
              "    <tr>\n",
              "      <th>106</th>\n",
              "      <td>1.76</td>\n",
              "      <td>-0.304087</td>\n",
              "      <td>-0.322332</td>\n",
              "    </tr>\n",
              "    <tr>\n",
              "      <th>107</th>\n",
              "      <td>1.77</td>\n",
              "      <td>-0.488481</td>\n",
              "      <td>-0.522675</td>\n",
              "    </tr>\n",
              "    <tr>\n",
              "      <th>108</th>\n",
              "      <td>1.78</td>\n",
              "      <td>-0.672876</td>\n",
              "      <td>-0.726706</td>\n",
              "    </tr>\n",
              "    <tr>\n",
              "      <th>109</th>\n",
              "      <td>1.79</td>\n",
              "      <td>-0.857270</td>\n",
              "      <td>-0.934425</td>\n",
              "    </tr>\n",
              "  </tbody>\n",
              "</table>\n",
              "<p>110 rows × 3 columns</p>\n",
              "</div>\n",
              "      <button class=\"colab-df-convert\" onclick=\"convertToInteractive('df-bfbd2919-29d6-4a89-886c-ac0d8290499b')\"\n",
              "              title=\"Convert this dataframe to an interactive table.\"\n",
              "              style=\"display:none;\">\n",
              "        \n",
              "  <svg xmlns=\"http://www.w3.org/2000/svg\" height=\"24px\"viewBox=\"0 0 24 24\"\n",
              "       width=\"24px\">\n",
              "    <path d=\"M0 0h24v24H0V0z\" fill=\"none\"/>\n",
              "    <path d=\"M18.56 5.44l.94 2.06.94-2.06 2.06-.94-2.06-.94-.94-2.06-.94 2.06-2.06.94zm-11 1L8.5 8.5l.94-2.06 2.06-.94-2.06-.94L8.5 2.5l-.94 2.06-2.06.94zm10 10l.94 2.06.94-2.06 2.06-.94-2.06-.94-.94-2.06-.94 2.06-2.06.94z\"/><path d=\"M17.41 7.96l-1.37-1.37c-.4-.4-.92-.59-1.43-.59-.52 0-1.04.2-1.43.59L10.3 9.45l-7.72 7.72c-.78.78-.78 2.05 0 2.83L4 21.41c.39.39.9.59 1.41.59.51 0 1.02-.2 1.41-.59l7.78-7.78 2.81-2.81c.8-.78.8-2.07 0-2.86zM5.41 20L4 18.59l7.72-7.72 1.47 1.35L5.41 20z\"/>\n",
              "  </svg>\n",
              "      </button>\n",
              "      \n",
              "  <style>\n",
              "    .colab-df-container {\n",
              "      display:flex;\n",
              "      flex-wrap:wrap;\n",
              "      gap: 12px;\n",
              "    }\n",
              "\n",
              "    .colab-df-convert {\n",
              "      background-color: #E8F0FE;\n",
              "      border: none;\n",
              "      border-radius: 50%;\n",
              "      cursor: pointer;\n",
              "      display: none;\n",
              "      fill: #1967D2;\n",
              "      height: 32px;\n",
              "      padding: 0 0 0 0;\n",
              "      width: 32px;\n",
              "    }\n",
              "\n",
              "    .colab-df-convert:hover {\n",
              "      background-color: #E2EBFA;\n",
              "      box-shadow: 0px 1px 2px rgba(60, 64, 67, 0.3), 0px 1px 3px 1px rgba(60, 64, 67, 0.15);\n",
              "      fill: #174EA6;\n",
              "    }\n",
              "\n",
              "    [theme=dark] .colab-df-convert {\n",
              "      background-color: #3B4455;\n",
              "      fill: #D2E3FC;\n",
              "    }\n",
              "\n",
              "    [theme=dark] .colab-df-convert:hover {\n",
              "      background-color: #434B5C;\n",
              "      box-shadow: 0px 1px 3px 1px rgba(0, 0, 0, 0.15);\n",
              "      filter: drop-shadow(0px 1px 2px rgba(0, 0, 0, 0.3));\n",
              "      fill: #FFFFFF;\n",
              "    }\n",
              "  </style>\n",
              "\n",
              "      <script>\n",
              "        const buttonEl =\n",
              "          document.querySelector('#df-bfbd2919-29d6-4a89-886c-ac0d8290499b button.colab-df-convert');\n",
              "        buttonEl.style.display =\n",
              "          google.colab.kernel.accessAllowed ? 'block' : 'none';\n",
              "\n",
              "        async function convertToInteractive(key) {\n",
              "          const element = document.querySelector('#df-bfbd2919-29d6-4a89-886c-ac0d8290499b');\n",
              "          const dataTable =\n",
              "            await google.colab.kernel.invokeFunction('convertToInteractive',\n",
              "                                                     [key], {});\n",
              "          if (!dataTable) return;\n",
              "\n",
              "          const docLinkHtml = 'Like what you see? Visit the ' +\n",
              "            '<a target=\"_blank\" href=https://colab.research.google.com/notebooks/data_table.ipynb>data table notebook</a>'\n",
              "            + ' to learn more about interactive tables.';\n",
              "          element.innerHTML = '';\n",
              "          dataTable['output_type'] = 'display_data';\n",
              "          await google.colab.output.renderOutput(dataTable, element);\n",
              "          const docLink = document.createElement('div');\n",
              "          docLink.innerHTML = docLinkHtml;\n",
              "          element.appendChild(docLink);\n",
              "        }\n",
              "      </script>\n",
              "    </div>\n",
              "  </div>\n",
              "  "
            ]
          },
          "metadata": {},
          "execution_count": 14
        }
      ],
      "source": [
        "test['Profit'] = (test[\"UnitPrice\"] - buying_price_10002) * test[\"Quantity\"]\n",
        "test"
      ]
    },
    {
      "cell_type": "code",
      "execution_count": null,
      "metadata": {
        "colab": {
          "base_uri": "https://localhost:8080/",
          "height": 281
        },
        "id": "tOmxpTk5oJa4",
        "outputId": "c30215a9-1b10-447a-aafe-d68631cb849c"
      },
      "outputs": [
        {
          "output_type": "display_data",
          "data": {
            "text/plain": [
              "<Figure size 432x288 with 1 Axes>"
            ],
            "image/png": "[encoded data removed]"
          },
          "metadata": {
            "needs_background": "light"
          }
        }
      ],
      "source": [
        "from scipy.ndimage import label\n",
        "plt.plot(test['UnitPrice'],test['Quantity'] , label = 'Price vs Quantity')\n",
        "plt.plot(test['UnitPrice'],test['Profit'], label = 'Price vs Profit')\n",
        "plt.xlabel(\"Unit Price\")\n",
        "plt.ylabel(\"Quantity / Profit\")\n",
        "plt.legend()\n",
        "plt.show()"
      ]
    },
    {
      "cell_type": "code",
      "source": [
        "# Read data\n",
        "import plotly.graph_objects as go\n",
        "import numpy as np\n",
        "import chart_studio.plotly as py\n",
        "from plotly.offline import iplot\n",
        "\n",
        "z_data = test[['UnitPrice','Quantity','Profit']]\n",
        "\n",
        "fig = go.Figure(go.Mesh3d(x=(z_data['UnitPrice'].values),\n",
        "                y=(z_data['Quantity'].values),\n",
        "                z=(z_data['Profit'].values),\n",
        "                opacity=0.5,\n",
        "                color='rgba(244,30,20,0.6)'))\n",
        "                      \n",
        "fig.update_layout(title='Price Volume - Profit Curve' , autosize=True)\n",
        "iplot(fig)"
      ],
      "metadata": {
        "colab": {
          "base_uri": "https://localhost:8080/",
          "height": 542
        },
        "id": "9ItwZ7xQhpXY",
        "outputId": "05e3d4a4-7129-4687-c095-2b7b02b56bca"
      },
      "execution_count": null,
      "outputs": [
        {
          "output_type": "display_data",
          "data": {
            "text/html": [
              "<html>\n",
              "<head><meta charset=\"utf-8\" /></head>\n",
              "<body>\n",
              "    <div>            <script src=\"https://cdnjs.cloudflare.com/ajax/libs/mathjax/2.7.5/MathJax.js?config=TeX-AMS-MML_SVG\"></script><script type=\"text/javascript\">if (window.MathJax) {MathJax.Hub.Config({SVG: {font: \"STIX-Web\"}});}</script>                <script type=\"text/javascript\">window.PlotlyConfig = {MathJaxConfig: 'local'};</script>\n",
              "        <script src=\"https://cdn.plot.ly/plotly-2.8.3.min.js\"></script>                <div id=\"4d3464ab-e6dc-4bf2-b0a2-68bc070b6e76\" class=\"plotly-graph-div\" style=\"height:525px; width:100%;\"></div>            <script type=\"text/javascript\">                                    window.PLOTLYENV=window.PLOTLYENV || {};                                    if (document.getElementById(\"4d3464ab-e6dc-4bf2-b0a2-68bc070b6e76\")) {                    Plotly.newPlot(                        \"4d3464ab-e6dc-4bf2-b0a2-68bc070b6e76\",                        [{\"color\":\"rgba(244,30,20,0.6)\",\"opacity\":0.5,\"x\":[0.7,0.71,0.72,0.73,0.74,0.75,0.76,0.77,0.78,0.79,0.8,0.81,0.8200000000000001,0.8300000000000001,0.8400000000000001,0.8500000000000001,0.8600000000000001,0.8700000000000001,0.8800000000000001,0.8900000000000001,0.9000000000000001,0.9100000000000001,0.9200000000000002,0.9300000000000002,0.9400000000000002,0.9500000000000002,0.9600000000000002,0.9700000000000002,0.9800000000000002,0.9900000000000002,1.0000000000000002,1.0100000000000002,1.0200000000000002,1.0300000000000002,1.0400000000000003,1.0500000000000003,1.0600000000000003,1.0700000000000003,1.0800000000000003,1.0900000000000003,1.1000000000000003,1.1100000000000003,1.1200000000000003,1.1300000000000003,1.1400000000000003,1.1500000000000004,1.1600000000000004,1.1700000000000004,1.1800000000000004,1.1900000000000004,1.2000000000000004,1.2100000000000004,1.2200000000000004,1.2300000000000004,1.2400000000000004,1.2500000000000004,1.2600000000000005,1.2700000000000005,1.2800000000000005,1.2900000000000005,1.3000000000000005,1.3100000000000005,1.3200000000000005,1.3300000000000005,1.3400000000000005,1.3500000000000005,1.3600000000000005,1.3700000000000006,1.3800000000000006,1.3900000000000006,1.4000000000000006,1.4100000000000006,1.4200000000000006,1.4300000000000006,1.4400000000000006,1.4500000000000006,1.4600000000000006,1.4700000000000006,1.4800000000000006,1.4900000000000007,1.5000000000000007,1.5100000000000007,1.5200000000000007,1.5300000000000007,1.5400000000000007,1.5500000000000007,1.5600000000000007,1.5700000000000007,1.5800000000000007,1.5900000000000007,1.6000000000000008,1.6100000000000008,1.6200000000000008,1.6300000000000008,1.6400000000000008,1.6500000000000008,1.6600000000000008,1.6700000000000008,1.6800000000000008,1.6900000000000008,1.7000000000000008,1.7100000000000009,1.7200000000000009,1.7300000000000009,1.7400000000000009,1.7500000000000009,1.760000000000001,1.770000000000001,1.780000000000001,1.790000000000001],\"y\":[19.241731570901145,19.057337056681114,18.872942542461082,18.688548028241055,18.504153514021027,18.319758999800996,18.13536448558097,17.95096997136094,17.76657545714091,17.58218094292088,17.39778642870085,17.213391914480823,17.028997400260792,16.84460288604076,16.660208371820733,16.475813857600706,16.291419343380674,16.107024829160647,15.922630314940616,15.738235800720588,15.553841286500557,15.36944677228053,15.185052258060498,15.00065774384047,14.816263229620443,14.631868715400412,14.447474201180384,14.263079686960353,14.078685172740325,13.894290658520294,13.709896144300266,13.525501630080235,13.341107115860208,13.156712601640177,12.972318087420149,12.787923573200121,12.60352905898009,12.419134544760063,12.234740030540031,12.050345516320004,11.865951002099973,11.681556487879945,11.497161973659914,11.312767459439886,11.128372945219855,10.943978430999827,10.7595839167798,10.575189402559769,10.390794888339741,10.20640037411971,10.022005859899682,9.837611345679651,9.653216831459623,9.468822317239592,9.284427803019565,9.100033288799533,8.915638774579506,8.731244260359478,8.546849746139447,8.36245523191942,8.178060717699388,7.993666203479361,7.8092716892593295,7.624877175039302,7.440482660819271,7.256088146599243,7.071693632379212,6.887299118159184,6.702904603939157,6.5185100897191255,6.334115575499098,6.149721061279067,5.965326547059039,5.780932032839008,5.59653751861898,5.412143004398949,5.2277484901789215,5.04335397595889,4.858959461738863,4.674564947518832,4.490170433298804,4.305775919078776,4.121381404858745,3.9369868906387175,3.7525923764186864,3.5681978621986588,3.3838033479786276,3.1994088337586,3.015014319538569,2.830619805318541,2.64622529109851,2.4618307768784824,2.277436262658455,2.0930417484384236,1.908647234218396,1.7242527199983648,1.5398582057783372,1.355463691558306,1.1710691773382784,0.9866746631182473,0.8022801488982196,0.6178856346781885,0.43349112045816085,0.24909660623813323,0.06470209201810206,-0.1196924222019291,-0.30408693642195317,-0.48848145064198434,-0.6728759648620155,-0.8572704790820467],\"z\":[0.0,0.1905733705668113,0.377458850849222,0.5606564408472321,0.7401661405608417,0.9159879499900506,1.088121869134859,1.256567897995267,1.421326036571274,1.5823962848628805,1.7397786428700865,1.8934731105928921,2.043479688031297,2.1897983751853007,2.332429172054905,2.471372078640108,2.6066270949409103,2.7381942209573125,2.8660734566893136,2.9902648021369145,3.1107682573001143,3.227583822178914,3.3407114967733125,3.4501512810833113,3.5559031751089094,3.657967178850106,3.7563432923069033,3.8510315154792987,3.9420318483672947,4.029344290970889,4.1129688432900835,4.192905505324877,4.269154277075271,4.3417151585412626,4.410588149722854,4.475773250620047,4.537270461232836,4.595079781561227,4.649201211605216,4.699634751364806,4.7463804008399935,4.789438160030782,4.828808028937168,4.864490007559155,4.89648409589674,4.924790293949926,4.949408601718712,4.970339019203096,4.98758154640308,5.001136183318662,5.0110029299498455,5.017181786296627,5.019672752359009,5.018475828136988,5.0135910136305695,5.005018308839748,4.992757713764528,4.976809228404907,4.957172852760884,4.933848586832462,4.906836430619637,4.876136384122415,4.841748447340788,4.803672620274765,4.761908902924337,4.716457295289512,4.667317797370284,4.614490409166658,4.5579751306786305,4.4977719619062,4.433880902849372,4.366301953508141,4.295035113882512,4.22008038397248,4.1414377637780495,4.059107253299215,3.9730888525359838,3.883382561488349,3.7899883801563163,3.69290630853988,3.5921363466390464,3.487678494453812,3.3795327519841742,3.2676991192301386,3.1521775961916996,3.0329681828688626,2.9100708792616223,2.7834856853699845,2.653212601193943,2.519251626733504,2.381602761988661,2.240266006959421,2.09524136164578,1.9465288260477356,1.7941284001652937,1.6380400839984481,1.478263877547205,1.3147997808115581,1.147647793791514,0.9768079164870657,0.8022801488982203,0.6240644910249709,0.44216094286732444,0.2565695044252775,0.06729017569882621,-0.12567704331202567,-0.32233215260727066,-0.5226751521869237,-0.7267060420509774,-0.9344248221994317],\"type\":\"mesh3d\"}],                        {\"autosize\":true,\"template\":{\"data\":{\"barpolar\":[{\"marker\":{\"line\":{\"color\":\"#E5ECF6\",\"width\":0.5},\"pattern\":{\"fillmode\":\"overlay\",\"size\":10,\"solidity\":0.2}},\"type\":\"barpolar\"}],\"bar\":[{\"error_x\":{\"color\":\"#2a3f5f\"},\"error_y\":{\"color\":\"#2a3f5f\"},\"marker\":{\"line\":{\"color\":\"#E5ECF6\",\"width\":0.5},\"pattern\":{\"fillmode\":\"overlay\",\"size\":10,\"solidity\":0.2}},\"type\":\"bar\"}],\"carpet\":[{\"aaxis\":{\"endlinecolor\":\"#2a3f5f\",\"gridcolor\":\"white\",\"linecolor\":\"white\",\"minorgridcolor\":\"white\",\"startlinecolor\":\"#2a3f5f\"},\"baxis\":{\"endlinecolor\":\"#2a3f5f\",\"gridcolor\":\"white\",\"linecolor\":\"white\",\"minorgridcolor\":\"white\",\"startlinecolor\":\"#2a3f5f\"},\"type\":\"carpet\"}],\"choropleth\":[{\"colorbar\":{\"outlinewidth\":0,\"ticks\":\"\"},\"type\":\"choropleth\"}],\"contourcarpet\":[{\"colorbar\":{\"outlinewidth\":0,\"ticks\":\"\"},\"type\":\"contourcarpet\"}],\"contour\":[{\"colorbar\":{\"outlinewidth\":0,\"ticks\":\"\"},\"colorscale\":[[0.0,\"#0d0887\"],[0.1111111111111111,\"#46039f\"],[0.2222222222222222,\"#7201a8\"],[0.3333333333333333,\"#9c179e\"],[0.4444444444444444,\"#bd3786\"],[0.5555555555555556,\"#d8576b\"],[0.6666666666666666,\"#ed7953\"],[0.7777777777777778,\"#fb9f3a\"],[0.8888888888888888,\"#fdca26\"],[1.0,\"#f0f921\"]],\"type\":\"contour\"}],\"heatmapgl\":[{\"colorbar\":{\"outlinewidth\":0,\"ticks\":\"\"},\"colorscale\":[[0.0,\"#0d0887\"],[0.1111111111111111,\"#46039f\"],[0.2222222222222222,\"#7201a8\"],[0.3333333333333333,\"#9c179e\"],[0.4444444444444444,\"#bd3786\"],[0.5555555555555556,\"#d8576b\"],[0.6666666666666666,\"#ed7953\"],[0.7777777777777778,\"#fb9f3a\"],[0.8888888888888888,\"#fdca26\"],[1.0,\"#f0f921\"]],\"type\":\"heatmapgl\"}],\"heatmap\":[{\"colorbar\":{\"outlinewidth\":0,\"ticks\":\"\"},\"colorscale\":[[0.0,\"#0d0887\"],[0.1111111111111111,\"#46039f\"],[0.2222222222222222,\"#7201a8\"],[0.3333333333333333,\"#9c179e\"],[0.4444444444444444,\"#bd3786\"],[0.5555555555555556,\"#d8576b\"],[0.6666666666666666,\"#ed7953\"],[0.7777777777777778,\"#fb9f3a\"],[0.8888888888888888,\"#fdca26\"],[1.0,\"#f0f921\"]],\"type\":\"heatmap\"}],\"histogram2dcontour\":[{\"colorbar\":{\"outlinewidth\":0,\"ticks\":\"\"},\"colorscale\":[[0.0,\"#0d0887\"],[0.1111111111111111,\"#46039f\"],[0.2222222222222222,\"#7201a8\"],[0.3333333333333333,\"#9c179e\"],[0.4444444444444444,\"#bd3786\"],[0.5555555555555556,\"#d8576b\"],[0.6666666666666666,\"#ed7953\"],[0.7777777777777778,\"#fb9f3a\"],[0.8888888888888888,\"#fdca26\"],[1.0,\"#f0f921\"]],\"type\":\"histogram2dcontour\"}],\"histogram2d\":[{\"colorbar\":{\"outlinewidth\":0,\"ticks\":\"\"},\"colorscale\":[[0.0,\"#0d0887\"],[0.1111111111111111,\"#46039f\"],[0.2222222222222222,\"#7201a8\"],[0.3333333333333333,\"#9c179e\"],[0.4444444444444444,\"#bd3786\"],[0.5555555555555556,\"#d8576b\"],[0.6666666666666666,\"#ed7953\"],[0.7777777777777778,\"#fb9f3a\"],[0.8888888888888888,\"#fdca26\"],[1.0,\"#f0f921\"]],\"type\":\"histogram2d\"}],\"histogram\":[{\"marker\":{\"pattern\":{\"fillmode\":\"overlay\",\"size\":10,\"solidity\":0.2}},\"type\":\"histogram\"}],\"mesh3d\":[{\"colorbar\":{\"outlinewidth\":0,\"ticks\":\"\"},\"type\":\"mesh3d\"}],\"parcoords\":[{\"line\":{\"colorbar\":{\"outlinewidth\":0,\"ticks\":\"\"}},\"type\":\"parcoords\"}],\"pie\":[{\"automargin\":true,\"type\":\"pie\"}],\"scatter3d\":[{\"line\":{\"colorbar\":{\"outlinewidth\":0,\"ticks\":\"\"}},\"marker\":{\"colorbar\":{\"outlinewidth\":0,\"ticks\":\"\"}},\"type\":\"scatter3d\"}],\"scattercarpet\":[{\"marker\":{\"colorbar\":{\"outlinewidth\":0,\"ticks\":\"\"}},\"type\":\"scattercarpet\"}],\"scattergeo\":[{\"marker\":{\"colorbar\":{\"outlinewidth\":0,\"ticks\":\"\"}},\"type\":\"scattergeo\"}],\"scattergl\":[{\"marker\":{\"colorbar\":{\"outlinewidth\":0,\"ticks\":\"\"}},\"type\":\"scattergl\"}],\"scattermapbox\":[{\"marker\":{\"colorbar\":{\"outlinewidth\":0,\"ticks\":\"\"}},\"type\":\"scattermapbox\"}],\"scatterpolargl\":[{\"marker\":{\"colorbar\":{\"outlinewidth\":0,\"ticks\":\"\"}},\"type\":\"scatterpolargl\"}],\"scatterpolar\":[{\"marker\":{\"colorbar\":{\"outlinewidth\":0,\"ticks\":\"\"}},\"type\":\"scatterpolar\"}],\"scatter\":[{\"marker\":{\"colorbar\":{\"outlinewidth\":0,\"ticks\":\"\"}},\"type\":\"scatter\"}],\"scatterternary\":[{\"marker\":{\"colorbar\":{\"outlinewidth\":0,\"ticks\":\"\"}},\"type\":\"scatterternary\"}],\"surface\":[{\"colorbar\":{\"outlinewidth\":0,\"ticks\":\"\"},\"colorscale\":[[0.0,\"#0d0887\"],[0.1111111111111111,\"#46039f\"],[0.2222222222222222,\"#7201a8\"],[0.3333333333333333,\"#9c179e\"],[0.4444444444444444,\"#bd3786\"],[0.5555555555555556,\"#d8576b\"],[0.6666666666666666,\"#ed7953\"],[0.7777777777777778,\"#fb9f3a\"],[0.8888888888888888,\"#fdca26\"],[1.0,\"#f0f921\"]],\"type\":\"surface\"}],\"table\":[{\"cells\":{\"fill\":{\"color\":\"#EBF0F8\"},\"line\":{\"color\":\"white\"}},\"header\":{\"fill\":{\"color\":\"#C8D4E3\"},\"line\":{\"color\":\"white\"}},\"type\":\"table\"}]},\"layout\":{\"annotationdefaults\":{\"arrowcolor\":\"#2a3f5f\",\"arrowhead\":0,\"arrowwidth\":1},\"autotypenumbers\":\"strict\",\"coloraxis\":{\"colorbar\":{\"outlinewidth\":0,\"ticks\":\"\"}},\"colorscale\":{\"diverging\":[[0,\"#8e0152\"],[0.1,\"#c51b7d\"],[0.2,\"#de77ae\"],[0.3,\"#f1b6da\"],[0.4,\"#fde0ef\"],[0.5,\"#f7f7f7\"],[0.6,\"#e6f5d0\"],[0.7,\"#b8e186\"],[0.8,\"#7fbc41\"],[0.9,\"#4d9221\"],[1,\"#276419\"]],\"sequential\":[[0.0,\"#0d0887\"],[0.1111111111111111,\"#46039f\"],[0.2222222222222222,\"#7201a8\"],[0.3333333333333333,\"#9c179e\"],[0.4444444444444444,\"#bd3786\"],[0.5555555555555556,\"#d8576b\"],[0.6666666666666666,\"#ed7953\"],[0.7777777777777778,\"#fb9f3a\"],[0.8888888888888888,\"#fdca26\"],[1.0,\"#f0f921\"]],\"sequentialminus\":[[0.0,\"#0d0887\"],[0.1111111111111111,\"#46039f\"],[0.2222222222222222,\"#7201a8\"],[0.3333333333333333,\"#9c179e\"],[0.4444444444444444,\"#bd3786\"],[0.5555555555555556,\"#d8576b\"],[0.6666666666666666,\"#ed7953\"],[0.7777777777777778,\"#fb9f3a\"],[0.8888888888888888,\"#fdca26\"],[1.0,\"#f0f921\"]]},\"colorway\":[\"#636efa\",\"#EF553B\",\"#00cc96\",\"#ab63fa\",\"#FFA15A\",\"#19d3f3\",\"#FF6692\",\"#B6E880\",\"#FF97FF\",\"#FECB52\"],\"font\":{\"color\":\"#2a3f5f\"},\"geo\":{\"bgcolor\":\"white\",\"lakecolor\":\"white\",\"landcolor\":\"#E5ECF6\",\"showlakes\":true,\"showland\":true,\"subunitcolor\":\"white\"},\"hoverlabel\":{\"align\":\"left\"},\"hovermode\":\"closest\",\"mapbox\":{\"style\":\"light\"},\"paper_bgcolor\":\"white\",\"plot_bgcolor\":\"#E5ECF6\",\"polar\":{\"angularaxis\":{\"gridcolor\":\"white\",\"linecolor\":\"white\",\"ticks\":\"\"},\"bgcolor\":\"#E5ECF6\",\"radialaxis\":{\"gridcolor\":\"white\",\"linecolor\":\"white\",\"ticks\":\"\"}},\"scene\":{\"xaxis\":{\"backgroundcolor\":\"#E5ECF6\",\"gridcolor\":\"white\",\"gridwidth\":2,\"linecolor\":\"white\",\"showbackground\":true,\"ticks\":\"\",\"zerolinecolor\":\"white\"},\"yaxis\":{\"backgroundcolor\":\"#E5ECF6\",\"gridcolor\":\"white\",\"gridwidth\":2,\"linecolor\":\"white\",\"showbackground\":true,\"ticks\":\"\",\"zerolinecolor\":\"white\"},\"zaxis\":{\"backgroundcolor\":\"#E5ECF6\",\"gridcolor\":\"white\",\"gridwidth\":2,\"linecolor\":\"white\",\"showbackground\":true,\"ticks\":\"\",\"zerolinecolor\":\"white\"}},\"shapedefaults\":{\"line\":{\"color\":\"#2a3f5f\"}},\"ternary\":{\"aaxis\":{\"gridcolor\":\"white\",\"linecolor\":\"white\",\"ticks\":\"\"},\"baxis\":{\"gridcolor\":\"white\",\"linecolor\":\"white\",\"ticks\":\"\"},\"bgcolor\":\"#E5ECF6\",\"caxis\":{\"gridcolor\":\"white\",\"linecolor\":\"white\",\"ticks\":\"\"}},\"title\":{\"x\":0.05},\"xaxis\":{\"automargin\":true,\"gridcolor\":\"white\",\"linecolor\":\"white\",\"ticks\":\"\",\"title\":{\"standoff\":15},\"zerolinecolor\":\"white\",\"zerolinewidth\":2},\"yaxis\":{\"automargin\":true,\"gridcolor\":\"white\",\"linecolor\":\"white\",\"ticks\":\"\",\"title\":{\"standoff\":15},\"zerolinecolor\":\"white\",\"zerolinewidth\":2}}},\"title\":{\"text\":\"Price Volume - Profit Curve\"}},                        {\"responsive\": true}                    ).then(function(){\n",
              "                            \n",
              "var gd = document.getElementById('4d3464ab-e6dc-4bf2-b0a2-68bc070b6e76');\n",
              "var x = new MutationObserver(function (mutations, observer) {{\n",
              "        var display = window.getComputedStyle(gd).display;\n",
              "        if (!display || display === 'none') {{\n",
              "            console.log([gd, 'removed!']);\n",
              "            Plotly.purge(gd);\n",
              "            observer.disconnect();\n",
              "        }}\n",
              "}});\n",
              "\n",
              "// Listen for the removal of the full notebook cells\n",
              "var notebookContainer = gd.closest('#notebook-container');\n",
              "if (notebookContainer) {{\n",
              "    x.observe(notebookContainer, {childList: true});\n",
              "}}\n",
              "\n",
              "// Listen for the clearing of the current output cell\n",
              "var outputEl = gd.closest('.output');\n",
              "if (outputEl) {{\n",
              "    x.observe(outputEl, {childList: true});\n",
              "}}\n",
              "\n",
              "                        })                };                            </script>        </div>\n",
              "</body>\n",
              "</html>"
            ]
          },
          "metadata": {}
        }
      ]
    },
    {
      "cell_type": "markdown",
      "source": [
        "###From the figure above we can see that the Quantity and Price have a downward trend.\n",
        "\n",
        "###We can also see that there is only one maxima for the Price vs Profit curve which is our optimal solution."
      ],
      "metadata": {
        "id": "Bs_TeLT-fxTJ"
      }
    },
    {
      "cell_type": "markdown",
      "source": [
        "#Optimal Solution:\n",
        "\n",
        "Our goal is to maximize the profits earned based on which we have to select the best UnitPrice for the product. Looking at Price vs Profit curve above we can clearly see that there is only one maximum which is our optimal solution."
      ],
      "metadata": {
        "id": "y9OJCUWfhYNr"
      }
    },
    {
      "cell_type": "markdown",
      "source": [
        "##As we can see that the Price vs Profit curve is a quadratic equation we try to find the coefficients using the polyfit function. "
      ],
      "metadata": {
        "id": "DmwJZpS0oohu"
      }
    },
    {
      "cell_type": "code",
      "execution_count": null,
      "metadata": {
        "colab": {
          "base_uri": "https://localhost:8080/",
          "height": 573
        },
        "id": "LDp4OQExoJa5",
        "outputId": "d50d4953-5d19-4698-c1a9-014a47f170c0"
      },
      "outputs": [
        {
          "output_type": "display_data",
          "data": {
            "text/plain": [
              "<Figure size 432x288 with 1 Axes>"
            ],
            "image/png": "[encoded data removed]"
          },
          "metadata": {
            "needs_background": "light"
          }
        },
        {
          "output_type": "display_data",
          "data": {
            "text/plain": [
              "<Figure size 432x288 with 1 Axes>"
            ],
            "image/png": "[encoded data removed]"
          },
          "metadata": {
            "needs_background": "light"
          }
        }
      ],
      "source": [
        "x = test['UnitPrice']\n",
        "y = test['Profit']\n",
        "m=[1,2]\n",
        "mse=[] # To save Mean Squared Errors for different order m\n",
        "\n",
        "for i in m:\n",
        "    coefficients = np.polyfit(x, y, i)\n",
        "    coefficients # In form of ..... + Ax^2 + Bx + C\n",
        "    coefficients = coefficients.flatten() #Flatten 2D data to 1D\n",
        "    polynomial = np.poly1d(coefficients)\n",
        "    \n",
        "    polynomial_x = np.linspace(np.min(x)-2, np.max(x)+2)\n",
        "    polynomial_y = polynomial(polynomial_x)\n",
        "    predicted_y = polynomial(x)\n",
        "    plt.xlim([np.min(x)-2, np.max(x)+2 ])\n",
        "    plt.plot(x, y, 'go--', polynomial_x,polynomial_y)\n",
        "    plt.xlabel(\"Unit Price\")\n",
        "    plt.ylabel(\"Profit\")\n",
        "    plt.title('Polynomial Degree(m) = '+str(i))\n",
        "    plt.show()\n",
        "    \n",
        "    mse_value = mean_squared_error(predicted_y, y);\n",
        "    mse.append(mse_value)"
      ]
    },
    {
      "cell_type": "code",
      "execution_count": null,
      "metadata": {
        "colab": {
          "base_uri": "https://localhost:8080/"
        },
        "id": "19roXa7WoJa6",
        "outputId": "4ee588c2-6a58-4287-bebf-42efe8352db0"
      },
      "outputs": [
        {
          "output_type": "stream",
          "name": "stdout",
          "text": [
            "The coefficient for our function are:  A: -18.43945142200274 B: 45.056963561705274 C: -22.504543296412603\n",
            "The function is:  -18.43945142200274 X^2 + 45.056963561705274 X -22.504543296412603\n"
          ]
        }
      ],
      "source": [
        "print(\"The coefficient for our function are: \", 'A:', coefficients[0], 'B:', coefficients[1], 'C:', coefficients[2])\n",
        "print('The function is: ', coefficients[0], \"X^2 +\", coefficients[1], \"X\",coefficients[2] )"
      ]
    },
    {
      "cell_type": "markdown",
      "source": [
        "#Steepest Descent Algorithm for Optimization.\n",
        "\n",
        "*   List item\n",
        "*   List item\n",
        "\n",
        "\n",
        "\n",
        "Steepest Descent Algorithm is used to minimize or maximize your function and find the optimal solution or saddle point for your function."
      ],
      "metadata": {
        "id": "amcngdFVrRZC"
      }
    },
    {
      "cell_type": "code",
      "execution_count": null,
      "metadata": {
        "id": "TSTUf6eNoJa6"
      },
      "outputs": [],
      "source": [
        "#Steepet Descent Algorithm\n",
        "def steepestDescent(df, func, xk, threshold = 10 ** (-6)):\n",
        "    \n",
        "    f_list = []\n",
        "    counter = 0\n",
        "    \n",
        "    while (True):\n",
        "        #Hessian Matrix\n",
        "        hessian_x = hessian(f(x), [x]).subs([(x,xk[0][0])])\n",
        "        \n",
        "        #Gradient\n",
        "        grad = Matrix([f(x)]).jacobian(Matrix([x])).subs([(x,xk[0][0])])\n",
        "        \n",
        "        #Alpha Calculation\n",
        "        num = grad * grad.T;\n",
        "        den = (grad * hessian_x * grad.T);\n",
        "        num = np.asarray(num).flatten();\n",
        "        den = np.asarray(den).flatten();\n",
        "        num = num[0];\n",
        "        den = den[0];\n",
        "        alpha = float(num)/float(den);\n",
        "        \n",
        "        #Second order Condition (d.T * H(x) * d >= 0)\n",
        "        second_order = ((-1 * grad) * hessian_x * (-1 * grad.T))[0]\n",
        "        \n",
        "        #xk calculation\n",
        "        xk = xk - (alpha * grad)\n",
        "        xk = np.asarray(xk);\n",
        "        grad = np.asarray(grad);\n",
        "        grad = grad.astype(float)\n",
        "    \n",
        "        #Threshold condition\n",
        "        check = norm(alpha * grad);\n",
        "        #Stopping Threshold condition\n",
        "        if(check <= threshold):\n",
        "            break;\n",
        "            \n",
        "        #Objective Function at updated xk\n",
        "        fkVal = funcVal(xk);\n",
        "        f_list.append(fkVal)\n",
        "        \n",
        "        #Increment Iteration counter\n",
        "        counter = counter + 1;\n",
        "        \n",
        "        #Round Values\n",
        "        x1_round = round(xk[0][0],4)\n",
        "        fkVal_round = round(fkVal,4);\n",
        "        #second_order_round = round(second_order,3)\n",
        "        \n",
        "        #Output Data\n",
        "        df = df.append({'Iteration': counter, 'alpha': alpha, 'Price': x1_round, 'Profit': fkVal_round, 'Second order': second_order}, ignore_index=True)\n",
        "\n",
        "    return f_list, df"
      ]
    },
    {
      "cell_type": "code",
      "execution_count": null,
      "metadata": {
        "id": "MR1xZoWSoJa7"
      },
      "outputs": [],
      "source": [
        "x = sympy.symbols('x')\n",
        "f = sympy.Function('f')\n",
        "xk = np.array([[0]]); # Initial Value of vector x\n",
        "t = time.process_time()\n",
        "df = pd.DataFrame()\n",
        "\n",
        "#Objective Function\n",
        "def f(x):\n",
        "    return -18.43*(x**2) + 45.05*x - 22.50\n",
        "\n",
        "#Function Value\n",
        "def funcVal(xk):\n",
        "    return f(x).subs(x, xk[0][0]);\n",
        "\n",
        "#Call Steepest Descent Algorithm\n",
        "f_list, df = steepestDescent(df, f(x), xk);\n",
        "\n",
        "#Total time to reach solution\n",
        "total_time = time.process_time() - t"
      ]
    },
    {
      "cell_type": "code",
      "execution_count": null,
      "metadata": {
        "colab": {
          "base_uri": "https://localhost:8080/",
          "height": 81
        },
        "id": "MnTKQvgdoJa7",
        "outputId": "dfcc7fc9-0b51-4f55-d6fe-e8d0133948b9"
      },
      "outputs": [
        {
          "output_type": "execute_result",
          "data": {
            "text/plain": [
              "   Iteration    alpha   Price  Profit       Second order\n",
              "0        1.0 -0.02713  1.2222  5.0299  -74807.4621500000"
            ],
            "text/html": [
              "\n",
              "  <div id=\"df-cc716be6-0db4-41db-a34f-8886c78ba0f4\">\n",
              "    <div class=\"colab-df-container\">\n",
              "      <div>\n",
              "<style scoped>\n",
              "    .dataframe tbody tr th:only-of-type {\n",
              "        vertical-align: middle;\n",
              "    }\n",
              "\n",
              "    .dataframe tbody tr th {\n",
              "        vertical-align: top;\n",
              "    }\n",
              "\n",
              "    .dataframe thead th {\n",
              "        text-align: right;\n",
              "    }\n",
              "</style>\n",
              "<table border=\"1\" class=\"dataframe\">\n",
              "  <thead>\n",
              "    <tr style=\"text-align: right;\">\n",
              "      <th></th>\n",
              "      <th>Iteration</th>\n",
              "      <th>alpha</th>\n",
              "      <th>Price</th>\n",
              "      <th>Profit</th>\n",
              "      <th>Second order</th>\n",
              "    </tr>\n",
              "  </thead>\n",
              "  <tbody>\n",
              "    <tr>\n",
              "      <th>0</th>\n",
              "      <td>1.0</td>\n",
              "      <td>-0.02713</td>\n",
              "      <td>1.2222</td>\n",
              "      <td>5.0299</td>\n",
              "      <td>-74807.4621500000</td>\n",
              "    </tr>\n",
              "  </tbody>\n",
              "</table>\n",
              "</div>\n",
              "      <button class=\"colab-df-convert\" onclick=\"convertToInteractive('df-cc716be6-0db4-41db-a34f-8886c78ba0f4')\"\n",
              "              title=\"Convert this dataframe to an interactive table.\"\n",
              "              style=\"display:none;\">\n",
              "        \n",
              "  <svg xmlns=\"http://www.w3.org/2000/svg\" height=\"24px\"viewBox=\"0 0 24 24\"\n",
              "       width=\"24px\">\n",
              "    <path d=\"M0 0h24v24H0V0z\" fill=\"none\"/>\n",
              "    <path d=\"M18.56 5.44l.94 2.06.94-2.06 2.06-.94-2.06-.94-.94-2.06-.94 2.06-2.06.94zm-11 1L8.5 8.5l.94-2.06 2.06-.94-2.06-.94L8.5 2.5l-.94 2.06-2.06.94zm10 10l.94 2.06.94-2.06 2.06-.94-2.06-.94-.94-2.06-.94 2.06-2.06.94z\"/><path d=\"M17.41 7.96l-1.37-1.37c-.4-.4-.92-.59-1.43-.59-.52 0-1.04.2-1.43.59L10.3 9.45l-7.72 7.72c-.78.78-.78 2.05 0 2.83L4 21.41c.39.39.9.59 1.41.59.51 0 1.02-.2 1.41-.59l7.78-7.78 2.81-2.81c.8-.78.8-2.07 0-2.86zM5.41 20L4 18.59l7.72-7.72 1.47 1.35L5.41 20z\"/>\n",
              "  </svg>\n",
              "      </button>\n",
              "      \n",
              "  <style>\n",
              "    .colab-df-container {\n",
              "      display:flex;\n",
              "      flex-wrap:wrap;\n",
              "      gap: 12px;\n",
              "    }\n",
              "\n",
              "    .colab-df-convert {\n",
              "      background-color: #E8F0FE;\n",
              "      border: none;\n",
              "      border-radius: 50%;\n",
              "      cursor: pointer;\n",
              "      display: none;\n",
              "      fill: #1967D2;\n",
              "      height: 32px;\n",
              "      padding: 0 0 0 0;\n",
              "      width: 32px;\n",
              "    }\n",
              "\n",
              "    .colab-df-convert:hover {\n",
              "      background-color: #E2EBFA;\n",
              "      box-shadow: 0px 1px 2px rgba(60, 64, 67, 0.3), 0px 1px 3px 1px rgba(60, 64, 67, 0.15);\n",
              "      fill: #174EA6;\n",
              "    }\n",
              "\n",
              "    [theme=dark] .colab-df-convert {\n",
              "      background-color: #3B4455;\n",
              "      fill: #D2E3FC;\n",
              "    }\n",
              "\n",
              "    [theme=dark] .colab-df-convert:hover {\n",
              "      background-color: #434B5C;\n",
              "      box-shadow: 0px 1px 3px 1px rgba(0, 0, 0, 0.15);\n",
              "      filter: drop-shadow(0px 1px 2px rgba(0, 0, 0, 0.3));\n",
              "      fill: #FFFFFF;\n",
              "    }\n",
              "  </style>\n",
              "\n",
              "      <script>\n",
              "        const buttonEl =\n",
              "          document.querySelector('#df-cc716be6-0db4-41db-a34f-8886c78ba0f4 button.colab-df-convert');\n",
              "        buttonEl.style.display =\n",
              "          google.colab.kernel.accessAllowed ? 'block' : 'none';\n",
              "\n",
              "        async function convertToInteractive(key) {\n",
              "          const element = document.querySelector('#df-cc716be6-0db4-41db-a34f-8886c78ba0f4');\n",
              "          const dataTable =\n",
              "            await google.colab.kernel.invokeFunction('convertToInteractive',\n",
              "                                                     [key], {});\n",
              "          if (!dataTable) return;\n",
              "\n",
              "          const docLinkHtml = 'Like what you see? Visit the ' +\n",
              "            '<a target=\"_blank\" href=https://colab.research.google.com/notebooks/data_table.ipynb>data table notebook</a>'\n",
              "            + ' to learn more about interactive tables.';\n",
              "          element.innerHTML = '';\n",
              "          dataTable['output_type'] = 'display_data';\n",
              "          await google.colab.output.renderOutput(dataTable, element);\n",
              "          const docLink = document.createElement('div');\n",
              "          docLink.innerHTML = docLinkHtml;\n",
              "          element.appendChild(docLink);\n",
              "        }\n",
              "      </script>\n",
              "    </div>\n",
              "  </div>\n",
              "  "
            ]
          },
          "metadata": {},
          "execution_count": 21
        }
      ],
      "source": [
        "df.to_csv('Output - Steepest Descent Algorithm.csv', sep='\\t')\n",
        "df"
      ]
    },
    {
      "cell_type": "markdown",
      "source": [
        "#Results:\n",
        "\n",
        "After performing optimization algorithm on our dataset we can conclude that the **UnitPrice should be 1.222** in order to achieve **maximum profit.** \n",
        "\n",
        "The same can be verified from the Price vs Profit graph where the maximum profit is achieved at Price 1.22.\n",
        "\n",
        "\n",
        "**Note:** During the project we have considered only one product from the dataset and optimized the price for that specific product the same method can be followed to optimize for other products as well."
      ],
      "metadata": {
        "id": "sZkQ7yyq1UhO"
      }
    }
  ],
  "metadata": {
    "kernelspec": {
      "display_name": "Python 3",
      "language": "python",
      "name": "python3"
    },
    "language_info": {
      "codemirror_mode": {
        "name": "ipython",
        "version": 3
      },
      "file_extension": ".py",
      "mimetype": "text/x-python",
      "name": "python",
      "nbconvert_exporter": "python",
      "pygments_lexer": "ipython3",
      "version": "3.8.3"
    },
    "colab": {
      "provenance": []
    }
  },
  "nbformat": 4,
  "nbformat_minor": 0
}